{
 "cells": [
  {
   "cell_type": "markdown",
   "id": "f92379bc",
   "metadata": {},
   "source": [
    "# RL implementation"
   ]
  },
  {
   "cell_type": "code",
   "execution_count": 1,
   "id": "bdc37c6a",
   "metadata": {},
   "outputs": [],
   "source": [
    "import os, sys\n",
    "import gymnasium as gym\n",
    "import time\n",
    "import numpy as np\n",
    "import matplotlib.pyplot as plt\n",
    "from tqdm import tqdm\n",
    "from IPython.display import clear_output"
   ]
  },
  {
   "cell_type": "code",
   "execution_count": 2,
   "id": "e00fe0ab",
   "metadata": {},
   "outputs": [],
   "source": [
    "import text_flappy_bird_gym"
   ]
  },
  {
   "cell_type": "markdown",
   "id": "f74efa42",
   "metadata": {},
   "source": [
    "### Environment"
   ]
  },
  {
   "cell_type": "markdown",
   "id": "45efcf2b",
   "metadata": {},
   "source": [
    "The following code displays the text environment.\n",
    "At every step, the code chooses a random action. Hence, you'll see that the performance of this code is terrible."
   ]
  },
  {
   "cell_type": "code",
   "execution_count": 3,
   "id": "6c55e7e4",
   "metadata": {},
   "outputs": [
    {
     "name": "stdout",
     "output_type": "stream",
     "text": [
      "\u001b[H\u001b[2JText Flappy Bird!\n",
      "Score: 0\n",
      "----------------------\n",
      "[               \u001b[32m|\u001b[0m    ]\n",
      "[               \u001b[32m|\u001b[0m    ]\n",
      "[               \u001b[32m|\u001b[0m    ]\n",
      "[               \u001b[32m|\u001b[0m    ]\n",
      "[               \u001b[32m|\u001b[0m    ]\n",
      "[               \u001b[32m|\u001b[0m    ]\n",
      "[                    ]\n",
      "[                    ]\n",
      "[                    ]\n",
      "[                    ]\n",
      "[               \u001b[32m|\u001b[0m    ]\n",
      "[               \u001b[32m|\u001b[0m    ]\n",
      "[               \u001b[32m|\u001b[0m    ]\n",
      "[               \u001b[32m|\u001b[0m    ]\n",
      "[     \u001b[31m*\u001b[0m         \u001b[32m|\u001b[0m    ]\n",
      "^^^^^^^^^^^^^^^^^^^^^^\n",
      "Player Action (Idle)\n",
      "Distance From Pipe (dx=9,dy=7)\n"
     ]
    }
   ],
   "source": [
    "# initiate environment\n",
    "env = gym.make('TextFlappyBird-v0', height = 15, width = 20, pipe_gap = 4)\n",
    "obs = env.reset()\n",
    "\n",
    "while True:\n",
    "    # Select next action\n",
    "    action = env.action_space.sample()  # for an agent, action = agent.policy(observation)\n",
    "\n",
    "    # Appy action and return new observation of the environment\n",
    "    obs, reward, done, _, info = env.step(action)\n",
    "\n",
    "    # Render the game\n",
    "    os.system(\"clear\")\n",
    "    sys.stdout.write(env.render())\n",
    "    time.sleep(.1) # FPS\n",
    "    \n",
    "    clear_output(wait=True)\n",
    "    \n",
    "    # If player is dead break\n",
    "    if done:\n",
    "        break\n",
    "\n",
    "env.close()"
   ]
  },
  {
   "cell_type": "code",
   "execution_count": 4,
   "id": "8988e7b5",
   "metadata": {},
   "outputs": [
    {
     "name": "stdout",
     "output_type": "stream",
     "text": [
      "\u001b[H\u001b[2JText Flappy Bird!\n",
      "Score: 16\n",
      "----------------------\n",
      "[  \u001b[32m|\u001b[0m         \u001b[32m|\u001b[0m       ]\n",
      "[  \u001b[32m|\u001b[0m         \u001b[32m|\u001b[0m       ]\n",
      "[  \u001b[32m|\u001b[0m         \u001b[32m|\u001b[0m       ]\n",
      "[  \u001b[32m|\u001b[0m         \u001b[32m|\u001b[0m       ]\n",
      "[            \u001b[32m|\u001b[0m       ]\n",
      "[            \u001b[32m|\u001b[0m       ]\n",
      "[            \u001b[32m|\u001b[0m       ]\n",
      "[            \u001b[32m|\u001b[0m       ]\n",
      "[  \u001b[32m|\u001b[0m         \u001b[32m|\u001b[0m       ]\n",
      "[  \u001b[32m|\u001b[0m         \u001b[32m|\u001b[0m       ]\n",
      "[  \u001b[32m|\u001b[0m                 ]\n",
      "[  \u001b[32m|\u001b[0m                 ]\n",
      "[  \u001b[32m|\u001b[0m                 ]\n",
      "[  \u001b[32m|\u001b[0m                 ]\n",
      "[  \u001b[32m|\u001b[0m  \u001b[31m*\u001b[0m      \u001b[32m|\u001b[0m       ]\n",
      "^^^^^^^^^^^^^^^^^^^^^^\n",
      "Player Action (Idle)\n",
      "Distance From Pipe (dx=6,dy=3)\n"
     ]
    }
   ],
   "source": [
    "# initiate environment\n",
    "env = gym.make('TextFlappyBird-v0', height = 15, width = 20, pipe_gap = 4)\n",
    "obs = env.reset()\n",
    "\n",
    "info = obs[1]\n",
    "\n",
    "\n",
    "while True:\n",
    "    # Select next action\n",
    "    action = env.action_space.sample()  # for an agent, action = agent.policy(observation)\n",
    "    \n",
    "    if type(obs[0]) == tuple:\n",
    "        x, y = obs[0]\n",
    "    else:\n",
    "        x, y = obs\n",
    "    \n",
    "    if y > 0:\n",
    "        action = 1\n",
    "    elif y <= 0:\n",
    "        action = 0\n",
    "    elif y <= -3:\n",
    "        action = 1\n",
    "    \n",
    "    \n",
    "    if info['player'][0] >= 10: \n",
    "        action = 1\n",
    "    \n",
    "\n",
    "    # Appy action and return new observation of the environment\n",
    "    obs, reward, done, _, info = env.step(action)\n",
    "\n",
    "    # Render the game\n",
    "    os.system(\"clear\")\n",
    "    sys.stdout.write(env.render())\n",
    "    time.sleep(.1) # FPS\n",
    "    \n",
    "    clear_output(wait=True)\n",
    "    \n",
    "\n",
    "    # If player is dead break\n",
    "    if done:\n",
    "        break\n",
    "\n",
    "env.close()"
   ]
  },
  {
   "cell_type": "markdown",
   "id": "9d550f48",
   "metadata": {},
   "source": [
    "## Method 1 : Q-learning: Off-policy TD Control"
   ]
  },
  {
   "cell_type": "markdown",
   "id": "b7c0bec9",
   "metadata": {},
   "source": [
    "### Distance to the next pipe gap"
   ]
  },
  {
   "cell_type": "markdown",
   "id": "dc3eb2c2",
   "metadata": {},
   "source": [
    "This implementation is based on the eponymous section 6.5 from __Sutton, R. S., & Barto, A. G. (2018). Reinforcement learning: An introduction. MIT press.__"
   ]
  },
  {
   "cell_type": "markdown",
   "id": "24d5421a",
   "metadata": {},
   "source": [
    "First, we need to determine the possible states.\n",
    "\n",
    "In this environment, we will consider the states as the tuples (x, y) where x and y are respectively the longitudinal and vertical distances to the center of the closest upcoming pipe gap.\n",
    "\n",
    "Given the setup of the environment :\n",
    "- x can take integer values from 0 to width (=20)\n",
    "- y can take integer values from -height (=-15) to height (=15)"
   ]
  },
  {
   "cell_type": "code",
   "execution_count": 5,
   "id": "957494b1",
   "metadata": {},
   "outputs": [],
   "source": [
    "class Q_learning_flappy_bird_v1():\n",
    "    def __init__(self, env, width, height, pipe_gap):\n",
    "        \n",
    "        self.width = width\n",
    "        self.height = height\n",
    "        self.pipe_gap = pipe_gap\n",
    "        self.env = env\n",
    "        \n",
    "        n_x_states = self.width\n",
    "        n_y_states = 2 * self.height\n",
    "        self.state_space_x = list(range(self.width))\n",
    "        self.state_space_y = list(range(-self.height, self.height))\n",
    "        \n",
    "        self.Q = np.random.rand(n_x_states, n_y_states, 2) * 10\n",
    "        # Terminal conditions\n",
    "        self.Q[0, :, :] = 0\n",
    "        \n",
    "        self.score_history = []\n",
    "        self.death_causes = []\n",
    "        \n",
    "        self.death_cause_play = None\n",
    "        self.score_play = None\n",
    "    \n",
    "    \n",
    "    def _distance_to_state(self, x, y):\n",
    "        \"\"\"\n",
    "        Returns the index of the state given distances x and y.\n",
    "        \"\"\"\n",
    "        state_x = self.state_space_x.index(x)\n",
    "        state_y = self.state_space_y.index(y)\n",
    "        return state_x, state_y\n",
    "    \n",
    "    \n",
    "    def _argmax(self, q_values):\n",
    "        \"\"\"\n",
    "        Returns the argmax equiprobably in case of ties.\n",
    "        \"\"\"\n",
    "        top = float(\"-inf\")\n",
    "        \n",
    "        ties = []\n",
    "        for i in range(len(q_values)):\n",
    "            if q_values[i] == top:\n",
    "                ties.append(i)\n",
    "            elif q_values[i] > top:\n",
    "                ties = [i]\n",
    "                top = q_values[i]\n",
    "        \n",
    "        ind = np.random.choice(ties)\n",
    "        return ind\n",
    "\n",
    "    \n",
    "    def train(self, n_episodes, alpha, epsilon, show_episodes=True):\n",
    "        \"\"\"\n",
    "        Trains the Q-Learning model.\n",
    "        \"\"\"\n",
    "        top_score = float(\"-inf\")\n",
    "        \n",
    "        for i in range(n_episodes):\n",
    "            obs = self.env.reset()\n",
    "            x, y = obs[0]\n",
    "            x, y = self._distance_to_state(x, y)\n",
    "            \n",
    "            while True:\n",
    "                # Select next action\n",
    "                random_number = np.random.random()\n",
    "                if random_number < epsilon:\n",
    "                    action = self.env.action_space.sample()  # for an agent, action = agent.policy(observation)\n",
    "                else:\n",
    "                    action = self._argmax(self.Q[x, y, :])\n",
    "\n",
    "                # Apply action and return new observation of the environment\n",
    "                obs, reward, done, _, info = self.env.step(action)\n",
    "                x_, y_ = obs\n",
    "                score = info['score']\n",
    "                if score > top_score:\n",
    "                    top_score = score\n",
    "                \n",
    "                # If we die, we set the reward to -100.\n",
    "                # If we manage to go through a gap, we set the reward to 10\n",
    "                if done:\n",
    "                    reward = -100\n",
    "                    if x == 0:\n",
    "                        self.death_causes.append(\"Collision\")\n",
    "                    else:\n",
    "                        self.death_causes.append(\"Floor\")\n",
    "                elif x==0 and not done:\n",
    "                    reward = 10\n",
    "                \n",
    "                self.Q[x, y, action] += alpha * (reward + np.max(self.Q[x_, y_, :] - self.Q[x, y, action]))\n",
    "                \n",
    "                x, y = x_, y_\n",
    "                \n",
    "                # Render the game\n",
    "                if show_episodes:\n",
    "                    os.system(\"clear\")\n",
    "                    print(f\"Episode : {i+1}/{n_episodes}\")\n",
    "                    print(\"Top score :\", top_score)\n",
    "                    sys.stdout.write(self.env.render())\n",
    "                    #time.sleep(.01) # FPS\n",
    "\n",
    "                    clear_output(wait=True)\n",
    "\n",
    "                # If player is dead break\n",
    "                if done:\n",
    "                    break\n",
    "            \n",
    "            self.score_history.append(score)\n",
    "\n",
    "        self.env.close()\n",
    "        \n",
    "        return self\n",
    "    \n",
    "    \n",
    "    def play(self, display=True, sleep_time=0.1):\n",
    "        obs = self.env.reset()\n",
    "        x, y = obs[0]\n",
    "        x, y = self._distance_to_state(x, y)\n",
    "\n",
    "        while True:\n",
    "            # Select next action\n",
    "            action = self._argmax(self.Q[x, y, :])\n",
    "\n",
    "            # Apply action and return new observation of the environment\n",
    "            obs, reward, done, _, info = self.env.step(action)\n",
    "            x, y = obs\n",
    "            \n",
    "            if done:\n",
    "                if x == 0:\n",
    "                    self.death_cause_play = \"Collision\"\n",
    "                else:\n",
    "                    self.death_cause_play = \"Floor\"\n",
    "\n",
    "            # Render the game\n",
    "            if display:\n",
    "                os.system(\"clear\")\n",
    "                sys.stdout.write(env.render())\n",
    "                if sleep_time:\n",
    "                    time.sleep(.1) # FPS\n",
    "\n",
    "                clear_output(wait=True)\n",
    "\n",
    "            # If player is dead break\n",
    "            if done:\n",
    "                self.score_play = info['score']\n",
    "                break\n",
    "\n",
    "        env.close()\n",
    "        \n",
    "        return self\n",
    "        \n",
    "        "
   ]
  },
  {
   "cell_type": "code",
   "execution_count": 6,
   "id": "d152fd49",
   "metadata": {},
   "outputs": [],
   "source": [
    "height = 15\n",
    "width = 20\n",
    "pipe_gap = 4\n",
    "\n",
    "env = gym.make('TextFlappyBird-v0', \n",
    "               height = height, \n",
    "               width = width, \n",
    "               pipe_gap = pipe_gap)\n",
    "\n",
    "q_learning_v1 = Q_learning_flappy_bird_v1(env=env, \n",
    "                                         width = width, \n",
    "                                         height = height, \n",
    "                                         pipe_gap = pipe_gap)"
   ]
  },
  {
   "cell_type": "markdown",
   "id": "02b87c40",
   "metadata": {},
   "source": [
    "Example of training :"
   ]
  },
  {
   "cell_type": "code",
   "execution_count": 7,
   "id": "9a8712b4",
   "metadata": {
    "scrolled": false
   },
   "outputs": [
    {
     "name": "stdout",
     "output_type": "stream",
     "text": [
      "\u001b[H\u001b[2JEpisode : 100/100\n",
      "Top score : 11\n",
      "Text Flappy Bird!\n",
      "Score: 0\n",
      "----------------------\n",
      "[      \u001b[32m|\u001b[0m         \u001b[32m|\u001b[0m   ]\n",
      "[     \u001b[31m*\u001b[0m\u001b[32m|\u001b[0m         \u001b[32m|\u001b[0m   ]\n",
      "[      \u001b[32m|\u001b[0m         \u001b[32m|\u001b[0m   ]\n",
      "[      \u001b[32m|\u001b[0m         \u001b[32m|\u001b[0m   ]\n",
      "[      \u001b[32m|\u001b[0m         \u001b[32m|\u001b[0m   ]\n",
      "[      \u001b[32m|\u001b[0m         \u001b[32m|\u001b[0m   ]\n",
      "[      \u001b[32m|\u001b[0m         \u001b[32m|\u001b[0m   ]\n",
      "[      \u001b[32m|\u001b[0m         \u001b[32m|\u001b[0m   ]\n",
      "[      \u001b[32m|\u001b[0m         \u001b[32m|\u001b[0m   ]\n",
      "[      \u001b[32m|\u001b[0m         \u001b[32m|\u001b[0m   ]\n",
      "[                    ]\n",
      "[                    ]\n",
      "[                    ]\n",
      "[                    ]\n",
      "[      \u001b[32m|\u001b[0m         \u001b[32m|\u001b[0m   ]\n",
      "^^^^^^^^^^^^^^^^^^^^^^\n",
      "Player Action (Flap)\n",
      "Distance From Pipe (dx=0,dy=-11)\n"
     ]
    }
   ],
   "source": [
    "n_episodes = 100\n",
    "alpha = 0.1\n",
    "epsilon = 0.1\n",
    "\n",
    "train_model = q_learning_v1.train(n_episodes=n_episodes,\n",
    "                                  alpha=alpha,\n",
    "                                  epsilon=epsilon)"
   ]
  },
  {
   "cell_type": "markdown",
   "id": "3b940fc2",
   "metadata": {},
   "source": [
    "#### Performance review"
   ]
  },
  {
   "cell_type": "code",
   "execution_count": 22,
   "id": "cb5d5c45",
   "metadata": {},
   "outputs": [],
   "source": [
    "height = 15\n",
    "width = 20\n",
    "pipe_gap = 4\n",
    "\n",
    "env = gym.make('TextFlappyBird-v0', \n",
    "               height = height, \n",
    "               width = width, \n",
    "               pipe_gap = pipe_gap)\n",
    "\n",
    "q_learning_v1 = Q_learning_flappy_bird_v1(env=env, \n",
    "                                          width = width, \n",
    "                                          height = height, \n",
    "                                          pipe_gap = pipe_gap)"
   ]
  },
  {
   "cell_type": "code",
   "execution_count": 23,
   "id": "91138ac3",
   "metadata": {},
   "outputs": [
    {
     "name": "stdout",
     "output_type": "stream",
     "text": [
      "Training with 10 episodes :\n"
     ]
    },
    {
     "name": "stderr",
     "output_type": "stream",
     "text": [
      "100%|██████████████████████████████████████████████████████████████████████████████████████████████████████████████| 100/100 [00:00<00:00, 2237.39it/s]\n"
     ]
    },
    {
     "name": "stdout",
     "output_type": "stream",
     "text": [
      "Training with 231 episodes :\n"
     ]
    },
    {
     "name": "stderr",
     "output_type": "stream",
     "text": [
      "100%|███████████████████████████████████████████████████████████████████████████████████████████████████████████████| 100/100 [00:00<00:00, 462.21it/s]\n"
     ]
    },
    {
     "name": "stdout",
     "output_type": "stream",
     "text": [
      "Training with 452 episodes :\n"
     ]
    },
    {
     "name": "stderr",
     "output_type": "stream",
     "text": [
      "100%|███████████████████████████████████████████████████████████████████████████████████████████████████████████████| 100/100 [00:00<00:00, 252.91it/s]\n"
     ]
    },
    {
     "name": "stdout",
     "output_type": "stream",
     "text": [
      "Training with 673 episodes :\n"
     ]
    },
    {
     "name": "stderr",
     "output_type": "stream",
     "text": [
      "100%|████████████████████████████████████████████████████████████████████████████████████████████████████████████████| 100/100 [00:03<00:00, 31.26it/s]\n"
     ]
    },
    {
     "name": "stdout",
     "output_type": "stream",
     "text": [
      "Training with 894 episodes :\n"
     ]
    },
    {
     "name": "stderr",
     "output_type": "stream",
     "text": [
      "100%|███████████████████████████████████████████████████████████████████████████████████████████████████████████████| 100/100 [00:00<00:00, 111.31it/s]\n"
     ]
    },
    {
     "name": "stdout",
     "output_type": "stream",
     "text": [
      "Training with 1115 episodes :\n"
     ]
    },
    {
     "name": "stderr",
     "output_type": "stream",
     "text": [
      "100%|████████████████████████████████████████████████████████████████████████████████████████████████████████████████| 100/100 [00:02<00:00, 48.31it/s]\n"
     ]
    },
    {
     "name": "stdout",
     "output_type": "stream",
     "text": [
      "Training with 1336 episodes :\n"
     ]
    },
    {
     "name": "stderr",
     "output_type": "stream",
     "text": [
      "100%|████████████████████████████████████████████████████████████████████████████████████████████████████████████████| 100/100 [00:01<00:00, 50.75it/s]\n"
     ]
    },
    {
     "name": "stdout",
     "output_type": "stream",
     "text": [
      "Training with 1557 episodes :\n"
     ]
    },
    {
     "name": "stderr",
     "output_type": "stream",
     "text": [
      "100%|████████████████████████████████████████████████████████████████████████████████████████████████████████████████| 100/100 [00:02<00:00, 44.21it/s]\n"
     ]
    },
    {
     "name": "stdout",
     "output_type": "stream",
     "text": [
      "Training with 1778 episodes :\n"
     ]
    },
    {
     "name": "stderr",
     "output_type": "stream",
     "text": [
      "100%|████████████████████████████████████████████████████████████████████████████████████████████████████████████████| 100/100 [07:16<00:00,  4.36s/it]\n"
     ]
    },
    {
     "name": "stdout",
     "output_type": "stream",
     "text": [
      "Training with 2000 episodes :\n"
     ]
    },
    {
     "name": "stderr",
     "output_type": "stream",
     "text": [
      "100%|████████████████████████████████████████████████████████████████████████████████████████████████████████████████| 100/100 [08:01<00:00,  4.81s/it]\n"
     ]
    }
   ],
   "source": [
    "alpha = 0.1\n",
    "epsilon = 0.1\n",
    "\n",
    "start_n_episodes = 10\n",
    "end_n_episodes = 2000\n",
    "n_steps = 10\n",
    "\n",
    "episodes_array = np.linspace(start_n_episodes, end_n_episodes, n_steps).astype(int)\n",
    "episodes_increments = [start_n_episodes] + list(np.diff(episodes_array))\n",
    "\n",
    "raw_results = []\n",
    "median_scores = []\n",
    "\n",
    "for i, n_episodes in enumerate(episodes_increments):\n",
    "    train_model = q_learning_v1.train(n_episodes=n_episodes,\n",
    "                                      alpha=alpha,\n",
    "                                      epsilon=epsilon,\n",
    "                                      show_episodes=False)\n",
    "\n",
    "    n_plays = 100\n",
    "    print(f\"Training with {episodes_array[i]} episodes :\")\n",
    "    scores = []\n",
    "    for _ in tqdm(range(n_plays)):\n",
    "        model = q_learning_v1.play(False, sleep_time=0)\n",
    "        scores.append(model.score_play)\n",
    "    \n",
    "        \n",
    "    median_scores.append(np.median(scores))"
   ]
  },
  {
   "cell_type": "code",
   "execution_count": 27,
   "id": "b9e51591",
   "metadata": {},
   "outputs": [
    {
     "data": {
      "image/png": "[encoded data removed]",
      "text/plain": [
       "<Figure size 640x480 with 1 Axes>"
      ]
     },
     "metadata": {},
     "output_type": "display_data"
    }
   ],
   "source": [
    "plt.plot(episodes_array, median_scores)\n",
    "\n",
    "plt.title(\"Median scores of agents\")\n",
    "\n",
    "plt.xlabel(\"Number of training episodes\")\n",
    "plt.ylabel(\"Median score\")\n",
    "\n",
    "plt.show()"
   ]
  },
  {
   "cell_type": "code",
   "execution_count": 31,
   "id": "34e8c7a7",
   "metadata": {},
   "outputs": [
    {
     "data": {
      "image/png": "[encoded data removed]",
      "text/plain": [
       "<Figure size 640x480 with 1 Axes>"
      ]
     },
     "metadata": {},
     "output_type": "display_data"
    }
   ],
   "source": [
    "plt.hist(scores, bins=10)\n",
    "plt.show()"
   ]
  },
  {
   "cell_type": "code",
   "execution_count": 32,
   "id": "3138c98b",
   "metadata": {
    "scrolled": true
   },
   "outputs": [
    {
     "ename": "ValueError",
     "evalue": "x and y must have same first dimension, but have shapes (173,) and (1951,)",
     "output_type": "error",
     "traceback": [
      "\u001b[0;31m---------------------------------------------------------------------------\u001b[0m",
      "\u001b[0;31mValueError\u001b[0m                                Traceback (most recent call last)",
      "Cell \u001b[0;32mIn[32], line 5\u001b[0m\n\u001b[1;32m      3\u001b[0m window_size \u001b[38;5;241m=\u001b[39m \u001b[38;5;241m50\u001b[39m\n\u001b[1;32m      4\u001b[0m moving_average_scores \u001b[38;5;241m=\u001b[39m np\u001b[38;5;241m.\u001b[39mconvolve(q_learning_v1\u001b[38;5;241m.\u001b[39mscore_history, np\u001b[38;5;241m.\u001b[39mones(window_size), \u001b[38;5;124m'\u001b[39m\u001b[38;5;124mvalid\u001b[39m\u001b[38;5;124m'\u001b[39m) \u001b[38;5;241m/\u001b[39m window_size\n\u001b[0;32m----> 5\u001b[0m \u001b[43mplt\u001b[49m\u001b[38;5;241;43m.\u001b[39;49m\u001b[43mplot\u001b[49m\u001b[43m(\u001b[49m\u001b[38;5;28;43mlist\u001b[39;49m\u001b[43m(\u001b[49m\u001b[38;5;28;43mrange\u001b[39;49m\u001b[43m(\u001b[49m\u001b[43mn_episodes\u001b[49m\u001b[43m)\u001b[49m\u001b[43m)\u001b[49m\u001b[43m[\u001b[49m\u001b[43mwindow_size\u001b[49m\u001b[38;5;241;43m-\u001b[39;49m\u001b[38;5;241;43m1\u001b[39;49m\u001b[43m:\u001b[49m\u001b[43m]\u001b[49m\u001b[43m,\u001b[49m\u001b[43m \u001b[49m\u001b[43mmoving_average_scores\u001b[49m\u001b[43m,\u001b[49m\u001b[43m \u001b[49m\u001b[43mlabel\u001b[49m\u001b[38;5;241;43m=\u001b[39;49m\u001b[38;5;124;43m\"\u001b[39;49m\u001b[38;5;124;43mMoving average\u001b[39;49m\u001b[38;5;124;43m\"\u001b[39;49m\u001b[43m)\u001b[49m\n\u001b[1;32m      7\u001b[0m plt\u001b[38;5;241m.\u001b[39mxlabel(\u001b[38;5;124m\"\u001b[39m\u001b[38;5;124mEpisode\u001b[39m\u001b[38;5;124m\"\u001b[39m)\n\u001b[1;32m      8\u001b[0m plt\u001b[38;5;241m.\u001b[39mylabel(\u001b[38;5;124m\"\u001b[39m\u001b[38;5;124mScore\u001b[39m\u001b[38;5;124m\"\u001b[39m)\n",
      "File \u001b[0;32m~/miniforge3/envs/flappy-bird/lib/python3.9/site-packages/matplotlib/pyplot.py:2812\u001b[0m, in \u001b[0;36mplot\u001b[0;34m(scalex, scaley, data, *args, **kwargs)\u001b[0m\n\u001b[1;32m   2810\u001b[0m \u001b[38;5;129m@_copy_docstring_and_deprecators\u001b[39m(Axes\u001b[38;5;241m.\u001b[39mplot)\n\u001b[1;32m   2811\u001b[0m \u001b[38;5;28;01mdef\u001b[39;00m \u001b[38;5;21mplot\u001b[39m(\u001b[38;5;241m*\u001b[39margs, scalex\u001b[38;5;241m=\u001b[39m\u001b[38;5;28;01mTrue\u001b[39;00m, scaley\u001b[38;5;241m=\u001b[39m\u001b[38;5;28;01mTrue\u001b[39;00m, data\u001b[38;5;241m=\u001b[39m\u001b[38;5;28;01mNone\u001b[39;00m, \u001b[38;5;241m*\u001b[39m\u001b[38;5;241m*\u001b[39mkwargs):\n\u001b[0;32m-> 2812\u001b[0m     \u001b[38;5;28;01mreturn\u001b[39;00m \u001b[43mgca\u001b[49m\u001b[43m(\u001b[49m\u001b[43m)\u001b[49m\u001b[38;5;241;43m.\u001b[39;49m\u001b[43mplot\u001b[49m\u001b[43m(\u001b[49m\n\u001b[1;32m   2813\u001b[0m \u001b[43m        \u001b[49m\u001b[38;5;241;43m*\u001b[39;49m\u001b[43margs\u001b[49m\u001b[43m,\u001b[49m\u001b[43m \u001b[49m\u001b[43mscalex\u001b[49m\u001b[38;5;241;43m=\u001b[39;49m\u001b[43mscalex\u001b[49m\u001b[43m,\u001b[49m\u001b[43m \u001b[49m\u001b[43mscaley\u001b[49m\u001b[38;5;241;43m=\u001b[39;49m\u001b[43mscaley\u001b[49m\u001b[43m,\u001b[49m\n\u001b[1;32m   2814\u001b[0m \u001b[43m        \u001b[49m\u001b[38;5;241;43m*\u001b[39;49m\u001b[38;5;241;43m*\u001b[39;49m\u001b[43m(\u001b[49m\u001b[43m{\u001b[49m\u001b[38;5;124;43m\"\u001b[39;49m\u001b[38;5;124;43mdata\u001b[39;49m\u001b[38;5;124;43m\"\u001b[39;49m\u001b[43m:\u001b[49m\u001b[43m \u001b[49m\u001b[43mdata\u001b[49m\u001b[43m}\u001b[49m\u001b[43m \u001b[49m\u001b[38;5;28;43;01mif\u001b[39;49;00m\u001b[43m \u001b[49m\u001b[43mdata\u001b[49m\u001b[43m \u001b[49m\u001b[38;5;129;43;01mis\u001b[39;49;00m\u001b[43m \u001b[49m\u001b[38;5;129;43;01mnot\u001b[39;49;00m\u001b[43m \u001b[49m\u001b[38;5;28;43;01mNone\u001b[39;49;00m\u001b[43m \u001b[49m\u001b[38;5;28;43;01melse\u001b[39;49;00m\u001b[43m \u001b[49m\u001b[43m{\u001b[49m\u001b[43m}\u001b[49m\u001b[43m)\u001b[49m\u001b[43m,\u001b[49m\u001b[43m \u001b[49m\u001b[38;5;241;43m*\u001b[39;49m\u001b[38;5;241;43m*\u001b[39;49m\u001b[43mkwargs\u001b[49m\u001b[43m)\u001b[49m\n",
      "File \u001b[0;32m~/miniforge3/envs/flappy-bird/lib/python3.9/site-packages/matplotlib/axes/_axes.py:1688\u001b[0m, in \u001b[0;36mAxes.plot\u001b[0;34m(self, scalex, scaley, data, *args, **kwargs)\u001b[0m\n\u001b[1;32m   1445\u001b[0m \u001b[38;5;250m\u001b[39m\u001b[38;5;124;03m\"\"\"\u001b[39;00m\n\u001b[1;32m   1446\u001b[0m \u001b[38;5;124;03mPlot y versus x as lines and/or markers.\u001b[39;00m\n\u001b[1;32m   1447\u001b[0m \n\u001b[0;32m   (...)\u001b[0m\n\u001b[1;32m   1685\u001b[0m \u001b[38;5;124;03m(``'green'``) or hex strings (``'#008000'``).\u001b[39;00m\n\u001b[1;32m   1686\u001b[0m \u001b[38;5;124;03m\"\"\"\u001b[39;00m\n\u001b[1;32m   1687\u001b[0m kwargs \u001b[38;5;241m=\u001b[39m cbook\u001b[38;5;241m.\u001b[39mnormalize_kwargs(kwargs, mlines\u001b[38;5;241m.\u001b[39mLine2D)\n\u001b[0;32m-> 1688\u001b[0m lines \u001b[38;5;241m=\u001b[39m [\u001b[38;5;241m*\u001b[39m\u001b[38;5;28mself\u001b[39m\u001b[38;5;241m.\u001b[39m_get_lines(\u001b[38;5;241m*\u001b[39margs, data\u001b[38;5;241m=\u001b[39mdata, \u001b[38;5;241m*\u001b[39m\u001b[38;5;241m*\u001b[39mkwargs)]\n\u001b[1;32m   1689\u001b[0m \u001b[38;5;28;01mfor\u001b[39;00m line \u001b[38;5;129;01min\u001b[39;00m lines:\n\u001b[1;32m   1690\u001b[0m     \u001b[38;5;28mself\u001b[39m\u001b[38;5;241m.\u001b[39madd_line(line)\n",
      "File \u001b[0;32m~/miniforge3/envs/flappy-bird/lib/python3.9/site-packages/matplotlib/axes/_base.py:311\u001b[0m, in \u001b[0;36m_process_plot_var_args.__call__\u001b[0;34m(self, data, *args, **kwargs)\u001b[0m\n\u001b[1;32m    309\u001b[0m     this \u001b[38;5;241m+\u001b[39m\u001b[38;5;241m=\u001b[39m args[\u001b[38;5;241m0\u001b[39m],\n\u001b[1;32m    310\u001b[0m     args \u001b[38;5;241m=\u001b[39m args[\u001b[38;5;241m1\u001b[39m:]\n\u001b[0;32m--> 311\u001b[0m \u001b[38;5;28;01myield from\u001b[39;00m \u001b[38;5;28;43mself\u001b[39;49m\u001b[38;5;241;43m.\u001b[39;49m\u001b[43m_plot_args\u001b[49m\u001b[43m(\u001b[49m\n\u001b[1;32m    312\u001b[0m \u001b[43m    \u001b[49m\u001b[43mthis\u001b[49m\u001b[43m,\u001b[49m\u001b[43m \u001b[49m\u001b[43mkwargs\u001b[49m\u001b[43m,\u001b[49m\u001b[43m \u001b[49m\u001b[43mambiguous_fmt_datakey\u001b[49m\u001b[38;5;241;43m=\u001b[39;49m\u001b[43mambiguous_fmt_datakey\u001b[49m\u001b[43m)\u001b[49m\n",
      "File \u001b[0;32m~/miniforge3/envs/flappy-bird/lib/python3.9/site-packages/matplotlib/axes/_base.py:504\u001b[0m, in \u001b[0;36m_process_plot_var_args._plot_args\u001b[0;34m(self, tup, kwargs, return_kwargs, ambiguous_fmt_datakey)\u001b[0m\n\u001b[1;32m    501\u001b[0m     \u001b[38;5;28mself\u001b[39m\u001b[38;5;241m.\u001b[39maxes\u001b[38;5;241m.\u001b[39myaxis\u001b[38;5;241m.\u001b[39mupdate_units(y)\n\u001b[1;32m    503\u001b[0m \u001b[38;5;28;01mif\u001b[39;00m x\u001b[38;5;241m.\u001b[39mshape[\u001b[38;5;241m0\u001b[39m] \u001b[38;5;241m!=\u001b[39m y\u001b[38;5;241m.\u001b[39mshape[\u001b[38;5;241m0\u001b[39m]:\n\u001b[0;32m--> 504\u001b[0m     \u001b[38;5;28;01mraise\u001b[39;00m \u001b[38;5;167;01mValueError\u001b[39;00m(\u001b[38;5;124mf\u001b[39m\u001b[38;5;124m\"\u001b[39m\u001b[38;5;124mx and y must have same first dimension, but \u001b[39m\u001b[38;5;124m\"\u001b[39m\n\u001b[1;32m    505\u001b[0m                      \u001b[38;5;124mf\u001b[39m\u001b[38;5;124m\"\u001b[39m\u001b[38;5;124mhave shapes \u001b[39m\u001b[38;5;132;01m{\u001b[39;00mx\u001b[38;5;241m.\u001b[39mshape\u001b[38;5;132;01m}\u001b[39;00m\u001b[38;5;124m and \u001b[39m\u001b[38;5;132;01m{\u001b[39;00my\u001b[38;5;241m.\u001b[39mshape\u001b[38;5;132;01m}\u001b[39;00m\u001b[38;5;124m\"\u001b[39m)\n\u001b[1;32m    506\u001b[0m \u001b[38;5;28;01mif\u001b[39;00m x\u001b[38;5;241m.\u001b[39mndim \u001b[38;5;241m>\u001b[39m \u001b[38;5;241m2\u001b[39m \u001b[38;5;129;01mor\u001b[39;00m y\u001b[38;5;241m.\u001b[39mndim \u001b[38;5;241m>\u001b[39m \u001b[38;5;241m2\u001b[39m:\n\u001b[1;32m    507\u001b[0m     \u001b[38;5;28;01mraise\u001b[39;00m \u001b[38;5;167;01mValueError\u001b[39;00m(\u001b[38;5;124mf\u001b[39m\u001b[38;5;124m\"\u001b[39m\u001b[38;5;124mx and y can be no greater than 2D, but have \u001b[39m\u001b[38;5;124m\"\u001b[39m\n\u001b[1;32m    508\u001b[0m                      \u001b[38;5;124mf\u001b[39m\u001b[38;5;124m\"\u001b[39m\u001b[38;5;124mshapes \u001b[39m\u001b[38;5;132;01m{\u001b[39;00mx\u001b[38;5;241m.\u001b[39mshape\u001b[38;5;132;01m}\u001b[39;00m\u001b[38;5;124m and \u001b[39m\u001b[38;5;132;01m{\u001b[39;00my\u001b[38;5;241m.\u001b[39mshape\u001b[38;5;132;01m}\u001b[39;00m\u001b[38;5;124m\"\u001b[39m)\n",
      "\u001b[0;31mValueError\u001b[0m: x and y must have same first dimension, but have shapes (173,) and (1951,)"
     ]
    },
    {
     "data": {
      "image/png": "[encoded data removed]",
      "text/plain": [
       "<Figure size 640x480 with 1 Axes>"
      ]
     },
     "metadata": {},
     "output_type": "display_data"
    }
   ],
   "source": [
    "plt.plot(q_learning_v1.score_history, label='True scores')\n",
    "\n",
    "window_size = 50\n",
    "moving_average_scores = np.convolve(q_learning_v1.score_history, np.ones(window_size), 'valid') / window_size\n",
    "plt.plot(list(range(n_episodes))[window_size-1:], moving_average_scores, label=\"Moving average\")\n",
    "\n",
    "plt.xlabel(\"Episode\")\n",
    "plt.ylabel(\"Score\")\n",
    "\n",
    "plt.legend()\n",
    "\n",
    "plt.show()"
   ]
  },
  {
   "cell_type": "markdown",
   "id": "772b09c1",
   "metadata": {},
   "source": [
    "The distribution of scores :"
   ]
  },
  {
   "cell_type": "code",
   "execution_count": 54,
   "id": "3fd42410",
   "metadata": {},
   "outputs": [
    {
     "name": "stderr",
     "output_type": "stream",
     "text": [
      "100%|██████████████████████████████████████████████████████████████████████████████████████████████████████████████| 1000/1000 [01:10<00:00, 14.09it/s]\n"
     ]
    }
   ],
   "source": [
    "n_experiments = 1000\n",
    "\n",
    "experiment_scores = []\n",
    "experiment_death_cause = []\n",
    "\n",
    "for i in tqdm(range(n_experiments)):\n",
    "    model = q_learning_v1.play(False)\n",
    "    experiment_scores.append(model.score_play)\n",
    "    experiment_death_cause.append(model.death_cause_play)"
   ]
  },
  {
   "cell_type": "code",
   "execution_count": 55,
   "id": "11cf0aa6",
   "metadata": {},
   "outputs": [
    {
     "data": {
      "image/png": "[encoded data removed]",
      "text/plain": [
       "<Figure size 640x480 with 1 Axes>"
      ]
     },
     "metadata": {},
     "output_type": "display_data"
    }
   ],
   "source": [
    "plt.hist(experiment_scores, bins=50)\n",
    "\n",
    "mean_score = np.mean(experiment_scores)\n",
    "median_score = np.median(experiment_scores)\n",
    "\n",
    "plt.axvline(mean_score, color='r', label=f\"Mean score = {mean_score}\")\n",
    "plt.axvline(median_score, color='k', label=f\"Median score = {median_score}\")\n",
    "\n",
    "\n",
    "plt.xlabel(\"Score\")\n",
    "plt.ylabel(\"Frequency\")\n",
    "\n",
    "plt.legend()\n",
    "\n",
    "plt.show()"
   ]
  },
  {
   "cell_type": "markdown",
   "id": "7c67a54c",
   "metadata": {},
   "source": [
    "Let's examine the causes of death."
   ]
  },
  {
   "cell_type": "code",
   "execution_count": 10,
   "id": "527b718c",
   "metadata": {
    "scrolled": false
   },
   "outputs": [
    {
     "data": {
      "image/png": "[encoded data removed]",
      "text/plain": [
       "<Figure size 640x480 with 1 Axes>"
      ]
     },
     "metadata": {},
     "output_type": "display_data"
    }
   ],
   "source": [
    "plt.hist(q_learning.death_causes)\n",
    "\n",
    "plt.title(\"Causes of death of the agent while training\")\n",
    "\n",
    "plt.xlabel(\"Cause of death\")\n",
    "plt.ylabel(\"Frequency\")\n",
    "\n",
    "plt.show()"
   ]
  },
  {
   "cell_type": "code",
   "execution_count": 12,
   "id": "8a398b7e",
   "metadata": {
    "scrolled": false
   },
   "outputs": [
    {
     "name": "stdout",
     "output_type": "stream",
     "text": [
      "\u001b[H\u001b[2JText Flappy Bird!\n",
      "Score: 22\n",
      "----------------------\n",
      "[         \u001b[32m|\u001b[0m          ]\n",
      "[         \u001b[32m|\u001b[0m          ]\n",
      "[      \u001b[33m@\u001b[0m             ]\n",
      "[                    ]\n",
      "[                    ]\n",
      "[                    ]\n",
      "[         \u001b[32m|\u001b[0m          ]\n",
      "[         \u001b[32m|\u001b[0m          ]\n",
      "[         \u001b[32m|\u001b[0m          ]\n",
      "[         \u001b[32m|\u001b[0m          ]\n",
      "[         \u001b[32m|\u001b[0m          ]\n",
      "[         \u001b[32m|\u001b[0m          ]\n",
      "[         \u001b[32m|\u001b[0m          ]\n",
      "[         \u001b[32m|\u001b[0m          ]\n",
      "[         \u001b[32m|\u001b[0m          ]\n",
      "^^^^^^^^^^^^^^^^^^^^^^\n",
      "Player Action (Flap)\n",
      "Distance From Pipe (dx=3,dy=-2)\n"
     ]
    },
    {
     "ename": "KeyboardInterrupt",
     "evalue": "",
     "output_type": "error",
     "traceback": [
      "\u001b[0;31m---------------------------------------------------------------------------\u001b[0m",
      "\u001b[0;31mKeyboardInterrupt\u001b[0m                         Traceback (most recent call last)",
      "Cell \u001b[0;32mIn[12], line 1\u001b[0m\n\u001b[0;32m----> 1\u001b[0m \u001b[43mq_learning\u001b[49m\u001b[38;5;241;43m.\u001b[39;49m\u001b[43mplay\u001b[49m\u001b[43m(\u001b[49m\u001b[43m)\u001b[49m\n",
      "Cell \u001b[0;32mIn[5], line 127\u001b[0m, in \u001b[0;36mQ_learning_flappy_bird_v1.play\u001b[0;34m(self)\u001b[0m\n\u001b[1;32m    125\u001b[0m os\u001b[38;5;241m.\u001b[39msystem(\u001b[38;5;124m\"\u001b[39m\u001b[38;5;124mclear\u001b[39m\u001b[38;5;124m\"\u001b[39m)\n\u001b[1;32m    126\u001b[0m sys\u001b[38;5;241m.\u001b[39mstdout\u001b[38;5;241m.\u001b[39mwrite(env\u001b[38;5;241m.\u001b[39mrender())\n\u001b[0;32m--> 127\u001b[0m \u001b[43mtime\u001b[49m\u001b[38;5;241;43m.\u001b[39;49m\u001b[43msleep\u001b[49m\u001b[43m(\u001b[49m\u001b[38;5;241;43m.1\u001b[39;49m\u001b[43m)\u001b[49m \u001b[38;5;66;03m# FPS\u001b[39;00m\n\u001b[1;32m    129\u001b[0m clear_output(wait\u001b[38;5;241m=\u001b[39m\u001b[38;5;28;01mTrue\u001b[39;00m)\n\u001b[1;32m    131\u001b[0m \u001b[38;5;66;03m# If player is dead break\u001b[39;00m\n",
      "\u001b[0;31mKeyboardInterrupt\u001b[0m: "
     ]
    }
   ],
   "source": [
    "q_learning.play()"
   ]
  },
  {
   "cell_type": "markdown",
   "id": "8f670da3",
   "metadata": {},
   "source": [
    "### Distance to the next pipe gap and to the floor"
   ]
  },
  {
   "cell_type": "markdown",
   "id": "d5317b0f",
   "metadata": {},
   "source": [
    "So as to avoid the collisitions with the floor, we will add another dimension to our state space that incapsulses the information of the distance to the groud. The implementation will be very similar to what we did before in `Q_learning_flappy_bird_v1`."
   ]
  },
  {
   "cell_type": "code",
   "execution_count": 13,
   "id": "133ced9f",
   "metadata": {},
   "outputs": [],
   "source": [
    "class Q_learning_flappy_bird_v2():\n",
    "    def __init__(self, env, width, height, pipe_gap):\n",
    "        \n",
    "        self.width = width\n",
    "        self.height = height\n",
    "        self.pipe_gap = pipe_gap\n",
    "        self.env = env\n",
    "        \n",
    "        n_x_states = self.width\n",
    "        n_y_states = 2 * self.height\n",
    "        n_h_states = self.height\n",
    "        self.state_space_x = list(range(self.width))\n",
    "        self.state_space_y = list(range(-self.height, self.height))\n",
    "        self.state_space_h = list(range(1, self.height + 1))\n",
    "        \n",
    "        self.Q = np.random.rand(n_x_states, n_y_states, n_h_states, 2) * 10\n",
    "        # Terminal conditions\n",
    "        self.Q[0, :, :, :] = 0      # x = 0\n",
    "        self.Q[:, :, -1, :] = 0     # h = 15 the height is measured from the top-down\n",
    "        \n",
    "        self.score_history = []\n",
    "        self.death_causes = []\n",
    "        \n",
    "        self.death_cause_play = None\n",
    "        self.score_play = None\n",
    "    \n",
    "    \n",
    "    def _distance_to_state(self, x, y, h):\n",
    "        \"\"\"\n",
    "        Returns the index of the state given distances x and y.\n",
    "        \"\"\"\n",
    "        state_x = self.state_space_x.index(x)\n",
    "        state_y = self.state_space_y.index(y)\n",
    "        state_h = self.state_space_h.index(h)\n",
    "        return state_x, state_y, state_h\n",
    "    \n",
    "    \n",
    "    def _argmax(self, q_values):\n",
    "        \"\"\"\n",
    "        Returns the argmax equiprobably in case of ties.\n",
    "        \"\"\"\n",
    "        top = float(\"-inf\")\n",
    "        \n",
    "        ties = []\n",
    "        for i in range(len(q_values)):\n",
    "            if q_values[i] == top:\n",
    "                ties.append(i)\n",
    "            elif q_values[i] > top:\n",
    "                ties = [i]\n",
    "                top = q_values[i]\n",
    "        \n",
    "        ind = np.random.choice(ties)\n",
    "        return ind\n",
    "\n",
    "    \n",
    "    def train(self, n_episodes, alpha, epsilon, show_episodes=True):\n",
    "        \"\"\"\n",
    "        Trains the Q-Learning model.\n",
    "        \"\"\"\n",
    "        top_score = float(\"-inf\")\n",
    "        \n",
    "        for i in range(n_episodes):\n",
    "            obs = self.env.reset()\n",
    "            x, y = obs[0]\n",
    "            h = 8\n",
    "            x, y, h = self._distance_to_state(x, y, h)\n",
    "            \n",
    "            while True:\n",
    "                # Select next action\n",
    "                random_number = np.random.random()\n",
    "                if random_number < epsilon:\n",
    "                    action = self.env.action_space.sample()  # for an agent, action = agent.policy(observation)\n",
    "                else:\n",
    "                    action = self._argmax(self.Q[x, y, h, :])\n",
    "\n",
    "                # Apply action and return new observation of the environment\n",
    "                obs, reward, done, _, info = self.env.step(action)\n",
    "                x_, y_ = obs\n",
    "                h_ = info['player'][1]\n",
    "                score = info['score']\n",
    "                if score > top_score:\n",
    "                    top_score = score\n",
    "                \n",
    "                # If we die, we set the reward to -100.\n",
    "                # If we manage to go through a gap, we set the reward to 10\n",
    "                if done:\n",
    "                    reward = -100\n",
    "                    if x == 0:\n",
    "                        self.death_causes.append(\"Collision\")\n",
    "                    elif h == self.height - 1:\n",
    "                        self.death_causes.append(\"Floor\")\n",
    "                    else:\n",
    "                        self.death_causes.append(\"Bizarre\")\n",
    "                elif x==0 and not done:\n",
    "                    reward = 10\n",
    "                \n",
    "                self.Q[x, y, action] += alpha * (reward + np.max(self.Q[x_, y_, :] - self.Q[x, y, action]))\n",
    "                \n",
    "                x, y, h = x_, y_, h_\n",
    "                \n",
    "                # Render the game\n",
    "                if show_episodes:\n",
    "                    os.system(\"clear\")\n",
    "                    print(f\"Episode : {i+1}/{n_episodes}\")\n",
    "                    print(\"Top score :\", top_score)\n",
    "                    sys.stdout.write(self.env.render())\n",
    "                    #time.sleep(.01) # FPS\n",
    "\n",
    "                    clear_output(wait=True)\n",
    "\n",
    "                # If player is dead break\n",
    "                if done:\n",
    "                    break\n",
    "            \n",
    "            self.score_history.append(score)\n",
    "\n",
    "        self.env.close()\n",
    "        \n",
    "        return self\n",
    "    \n",
    "    \n",
    "    def play(self, show_episodes=True):\n",
    "        obs = self.env.reset()\n",
    "        x, y = obs[0]\n",
    "        h = 8\n",
    "        x, y, h = self._distance_to_state(x, y, h)\n",
    "\n",
    "        while True:\n",
    "            # Select next action\n",
    "            action = self._argmax(self.Q[x, y, h, :])\n",
    "\n",
    "            # Apply action and return new observation of the environment\n",
    "            obs, reward, done, _, info = self.env.step(action)\n",
    "            x, y = obs\n",
    "            h = info['player'][1]\n",
    "            \n",
    "            if done:\n",
    "                if x == 0:\n",
    "                    self.death_cause_play = \"Collision\"\n",
    "                elif h == self.height - 1:\n",
    "                    self.death_cause_play = \"Floor\"\n",
    "            \n",
    "            # Render the game\n",
    "            if show_episodes:\n",
    "                os.system(\"clear\")\n",
    "                sys.stdout.write(env.render())\n",
    "                time.sleep(.1) # FPS\n",
    "\n",
    "                clear_output(wait=True)\n",
    "\n",
    "            # If player is dead break\n",
    "            if done:\n",
    "                self.score_play = info['score']\n",
    "                break\n",
    "\n",
    "        env.close()\n",
    "    \n",
    "        return self\n",
    "        \n",
    "        "
   ]
  },
  {
   "cell_type": "code",
   "execution_count": 14,
   "id": "38c6c1da",
   "metadata": {},
   "outputs": [],
   "source": [
    "height = 15\n",
    "width = 20\n",
    "pipe_gap = 4\n",
    "\n",
    "env = gym.make('TextFlappyBird-v0', \n",
    "               height = height, \n",
    "               width = width, \n",
    "               pipe_gap = pipe_gap)\n",
    "\n",
    "q_learning_v2 = Q_learning_flappy_bird_v1(env=env, \n",
    "                                         width = width, \n",
    "                                         height = height, \n",
    "                                         pipe_gap = pipe_gap)"
   ]
  },
  {
   "cell_type": "code",
   "execution_count": null,
   "id": "3cb912a9",
   "metadata": {},
   "outputs": [
    {
     "name": "stdout",
     "output_type": "stream",
     "text": [
      "Episode : 157/1000\n",
      "Top score : 258\n",
      "Text Flappy Bird!\n",
      "Score: 21\n",
      "----------------------\n",
      "[       \u001b[32m|\u001b[0m         \u001b[32m|\u001b[0m  ]\n",
      "[       \u001b[32m|\u001b[0m         \u001b[32m|\u001b[0m  ]\n",
      "[       \u001b[32m|\u001b[0m            ]\n",
      "[       \u001b[32m|\u001b[0m            ]\n",
      "[       \u001b[32m|\u001b[0m            ]\n",
      "[       \u001b[32m|\u001b[0m            ]\n",
      "[       \u001b[32m|\u001b[0m         \u001b[32m|\u001b[0m  ]\n",
      "[       \u001b[32m|\u001b[0m         \u001b[32m|\u001b[0m  ]\n",
      "[                 \u001b[32m|\u001b[0m  ]\n",
      "[                 \u001b[32m|\u001b[0m  ]\n",
      "[                 \u001b[32m|\u001b[0m  ]\n",
      "[      \u001b[33m@\u001b[0m          \u001b[32m|\u001b[0m  ]\n",
      "[       \u001b[32m|\u001b[0m         \u001b[32m|\u001b[0m  ]\n",
      "[       \u001b[32m|\u001b[0m         \u001b[32m|\u001b[0m  ]\n",
      "[       \u001b[32m|\u001b[0m         \u001b[32m|\u001b[0m  ]\n",
      "^^^^^^^^^^^^^^^^^^^^^^\n",
      "Player Action (Flap)\n",
      "Distance From Pipe (dx=1,dy=1)\n",
      "Episode : 157/1000\n",
      "Top score : 258\n",
      "Text Flappy Bird!\n",
      "Score: 21\n",
      "----------------------\n",
      "[       \u001b[32m|\u001b[0m         \u001b[32m|\u001b[0m  ]\n",
      "[       \u001b[32m|\u001b[0m         \u001b[32m|\u001b[0m  ]\n",
      "[       \u001b[32m|\u001b[0m            ]\n",
      "[       \u001b[32m|\u001b[0m            ]\n",
      "[       \u001b[32m|\u001b[0m            ]\n",
      "[       \u001b[32m|\u001b[0m            ]\n",
      "[       \u001b[32m|\u001b[0m         \u001b[32m|\u001b[0m  ]\n",
      "[       \u001b[32m|\u001b[0m         \u001b[32m|\u001b[0m  ]\n",
      "[                 \u001b[32m|\u001b[0m  ]\n",
      "[                 \u001b[32m|\u001b[0m  ]\n",
      "[                 \u001b[32m|\u001b[0m  ]\n",
      "[      \u001b[33m@\u001b[0m          \u001b[32m|\u001b[0m  ]\n",
      "[       \u001b[32m|\u001b[0m         \u001b[32m|\u001b[0m  ]\n",
      "[       \u001b[32m|\u001b[0m         \u001b[32m|\u001b[0m  ]\n",
      "[       \u001b[32m|\u001b[0m         \u001b[32m|\u001b[0m  ]\n",
      "^^^^^^^^^^^^^^^^^^^^^^\n",
      "Player Action (Flap)\n",
      "Distance From Pipe (dx=1,dy=1)\n"
     ]
    }
   ],
   "source": [
    "n_episodes = 500\n",
    "alpha = 0.1\n",
    "epsilon = 0.1\n",
    "\n",
    "train_model_2 = q_learning_v2.train(n_episodes=n_episodes,\n",
    "                                    alpha=alpha,\n",
    "                                    epsilon=epsilon)"
   ]
  },
  {
   "cell_type": "code",
   "execution_count": 25,
   "id": "06d5244c",
   "metadata": {},
   "outputs": [
    {
     "data": {
      "image/png": "[encoded data removed]",
      "text/plain": [
       "<Figure size 640x480 with 1 Axes>"
      ]
     },
     "metadata": {},
     "output_type": "display_data"
    }
   ],
   "source": [
    "plt.plot(q_learning_v2.score_history, label='True scores')\n",
    "\n",
    "window_size = 50\n",
    "moving_average_scores = np.convolve(q_learning_v2.score_history, np.ones(window_size), 'valid') / window_size\n",
    "plt.plot(list(range(n_episodes))[window_size-1:], moving_average_scores, label=\"Moving average\")\n",
    "\n",
    "plt.xlabel(\"Episode\")\n",
    "plt.ylabel(\"Score\")\n",
    "\n",
    "plt.legend()\n",
    "\n",
    "plt.show()"
   ]
  },
  {
   "cell_type": "code",
   "execution_count": 28,
   "id": "682a0f75",
   "metadata": {},
   "outputs": [
    {
     "data": {
      "image/png": "[encoded data removed]",
      "text/plain": [
       "<Figure size 640x480 with 1 Axes>"
      ]
     },
     "metadata": {},
     "output_type": "display_data"
    }
   ],
   "source": [
    "plt.hist(q_learning_v2.death_causes)\n",
    "\n",
    "plt.title(\"Causes of death of the agent while training\")\n",
    "\n",
    "plt.xlabel(\"Cause of death\")\n",
    "plt.ylabel(\"Frequency\")\n",
    "\n",
    "plt.grid()\n",
    "\n",
    "plt.show()"
   ]
  },
  {
   "cell_type": "code",
   "execution_count": 29,
   "id": "053fd90e",
   "metadata": {},
   "outputs": [
    {
     "name": "stdout",
     "output_type": "stream",
     "text": [
      "\u001b[H\u001b[2JText Flappy Bird!\n",
      "Score: 25\n",
      "----------------------\n",
      "[   \u001b[32m|\u001b[0m         \u001b[32m|\u001b[0m      ]\n",
      "[   \u001b[32m|\u001b[0m         \u001b[32m|\u001b[0m      ]\n",
      "[   \u001b[32m|\u001b[0m         \u001b[32m|\u001b[0m      ]\n",
      "[      \u001b[33m@\u001b[0m      \u001b[32m|\u001b[0m      ]\n",
      "[             \u001b[32m|\u001b[0m      ]\n",
      "[             \u001b[32m|\u001b[0m      ]\n",
      "[             \u001b[32m|\u001b[0m      ]\n",
      "[   \u001b[32m|\u001b[0m         \u001b[32m|\u001b[0m      ]\n",
      "[   \u001b[32m|\u001b[0m         \u001b[32m|\u001b[0m      ]\n",
      "[   \u001b[32m|\u001b[0m         \u001b[32m|\u001b[0m      ]\n",
      "[   \u001b[32m|\u001b[0m                ]\n",
      "[   \u001b[32m|\u001b[0m                ]\n",
      "[   \u001b[32m|\u001b[0m                ]\n",
      "[   \u001b[32m|\u001b[0m                ]\n",
      "[   \u001b[32m|\u001b[0m         \u001b[32m|\u001b[0m      ]\n",
      "^^^^^^^^^^^^^^^^^^^^^^\n",
      "Player Action (Idle)\n",
      "Distance From Pipe (dx=7,dy=-9)\n"
     ]
    },
    {
     "ename": "KeyboardInterrupt",
     "evalue": "",
     "output_type": "error",
     "traceback": [
      "\u001b[0;31m---------------------------------------------------------------------------\u001b[0m",
      "\u001b[0;31mKeyboardInterrupt\u001b[0m                         Traceback (most recent call last)",
      "Cell \u001b[0;32mIn[29], line 1\u001b[0m\n\u001b[0;32m----> 1\u001b[0m \u001b[43mq_learning_v2\u001b[49m\u001b[38;5;241;43m.\u001b[39;49m\u001b[43mplay\u001b[49m\u001b[43m(\u001b[49m\u001b[43m)\u001b[49m\n",
      "Cell \u001b[0;32mIn[5], line 127\u001b[0m, in \u001b[0;36mQ_learning_flappy_bird_v1.play\u001b[0;34m(self)\u001b[0m\n\u001b[1;32m    125\u001b[0m os\u001b[38;5;241m.\u001b[39msystem(\u001b[38;5;124m\"\u001b[39m\u001b[38;5;124mclear\u001b[39m\u001b[38;5;124m\"\u001b[39m)\n\u001b[1;32m    126\u001b[0m sys\u001b[38;5;241m.\u001b[39mstdout\u001b[38;5;241m.\u001b[39mwrite(env\u001b[38;5;241m.\u001b[39mrender())\n\u001b[0;32m--> 127\u001b[0m \u001b[43mtime\u001b[49m\u001b[38;5;241;43m.\u001b[39;49m\u001b[43msleep\u001b[49m\u001b[43m(\u001b[49m\u001b[38;5;241;43m.1\u001b[39;49m\u001b[43m)\u001b[49m \u001b[38;5;66;03m# FPS\u001b[39;00m\n\u001b[1;32m    129\u001b[0m clear_output(wait\u001b[38;5;241m=\u001b[39m\u001b[38;5;28;01mTrue\u001b[39;00m)\n\u001b[1;32m    131\u001b[0m \u001b[38;5;66;03m# If player is dead break\u001b[39;00m\n",
      "\u001b[0;31mKeyboardInterrupt\u001b[0m: "
     ]
    }
   ],
   "source": [
    "q_learning_v2.play()"
   ]
  },
  {
   "cell_type": "code",
   "execution_count": 32,
   "id": "46c87f09",
   "metadata": {},
   "outputs": [],
   "source": [
    "q_learning_v2.env.close()"
   ]
  },
  {
   "cell_type": "code",
   "execution_count": null,
   "id": "2e0eaf08",
   "metadata": {},
   "outputs": [],
   "source": []
  }
 ],
 "metadata": {
  "kernelspec": {
   "display_name": "Flappy bird M1",
   "language": "python",
   "name": "flappy-bird"
  },
  "language_info": {
   "codemirror_mode": {
    "name": "ipython",
    "version": 3
   },
   "file_extension": ".py",
   "mimetype": "text/x-python",
   "name": "python",
   "nbconvert_exporter": "python",
   "pygments_lexer": "ipython3",
   "version": "3.9.16"
  }
 },
 "nbformat": 4,
 "nbformat_minor": 5
}
