{
 "cells": [
  {
   "cell_type": "code",
   "execution_count": 1,
   "id": "d30a7271",
   "metadata": {},
   "outputs": [],
   "source": [
    "import os, sys\n",
    "import gymnasium as gym\n",
    "import time\n",
    "import numpy as np\n",
    "import matplotlib.pyplot as plt\n",
    "from tqdm import tqdm\n",
    "import pandas as pd\n",
    "from itertools import product\n",
    "from IPython.display import clear_output\n",
    "from scipy.signal import convolve2d\n",
    "\n",
    "plt.rcParams[\"figure.figsize\"] = (20,8)"
   ]
  },
  {
   "cell_type": "code",
   "execution_count": 2,
   "id": "e500ed4c",
   "metadata": {},
   "outputs": [],
   "source": [
    "import text_flappy_bird_gym"
   ]
  },
  {
   "cell_type": "markdown",
   "id": "73d1334d",
   "metadata": {},
   "source": [
    "We set a seed for our experiments."
   ]
  },
  {
   "cell_type": "code",
   "execution_count": 3,
   "id": "87f32129",
   "metadata": {},
   "outputs": [],
   "source": [
    "np.random.seed(0)"
   ]
  },
  {
   "cell_type": "markdown",
   "id": "95ee6487",
   "metadata": {},
   "source": [
    "**Important :** \n",
    "\n",
    "Since the game has no specific end policy (unless the agent dies), it becomes computationally expensive to train the agent for longer and to test it since it can potentially reach infinite scores. On the test runs, after 2000 training episodes, the agent was able to reach scores of 100'000 on average. Therefore, we will set a maximum target score.\n",
    "\n",
    "According to <a href=\"https://www.speedrun.com/flappybird/full_game?h=Highscore-Original_Game&x=jdr1ol52-onvm0mnm.9qj25wo1\">the Speed Run website</a>, the highest score ever at Flappy Bird (or one of its emulators) is 2311. Therefore, we will set the **target high score to 2000**."
   ]
  },
  {
   "cell_type": "markdown",
   "id": "59989341",
   "metadata": {},
   "source": [
    "# Environment"
   ]
  },
  {
   "cell_type": "markdown",
   "id": "77a1f3dc",
   "metadata": {},
   "source": [
    "The following code displays the text environment.\n",
    "\n",
    "As a trial code, at every step, the agent chooses a random action. Hence, you'll see that the performance of this code is terrible."
   ]
  },
  {
   "cell_type": "code",
   "execution_count": 4,
   "id": "77932474",
   "metadata": {},
   "outputs": [
    {
     "name": "stdout",
     "output_type": "stream",
     "text": [
      "\u001b[H\u001b[2JText Flappy Bird!\n",
      "Score: 0\n",
      "----------------------\n",
      "[      \u001b[32m|\u001b[0m         \u001b[32m|\u001b[0m   ]\n",
      "[      \u001b[32m|\u001b[0m         \u001b[32m|\u001b[0m   ]\n",
      "[      \u001b[32m|\u001b[0m             ]\n",
      "[      \u001b[32m|\u001b[0m             ]\n",
      "[     \u001b[31m*\u001b[0m\u001b[32m|\u001b[0m             ]\n",
      "[                    ]\n",
      "[                \u001b[32m|\u001b[0m   ]\n",
      "[                \u001b[32m|\u001b[0m   ]\n",
      "[                \u001b[32m|\u001b[0m   ]\n",
      "[      \u001b[32m|\u001b[0m         \u001b[32m|\u001b[0m   ]\n",
      "[      \u001b[32m|\u001b[0m         \u001b[32m|\u001b[0m   ]\n",
      "[      \u001b[32m|\u001b[0m         \u001b[32m|\u001b[0m   ]\n",
      "[      \u001b[32m|\u001b[0m         \u001b[32m|\u001b[0m   ]\n",
      "[      \u001b[32m|\u001b[0m         \u001b[32m|\u001b[0m   ]\n",
      "[      \u001b[32m|\u001b[0m         \u001b[32m|\u001b[0m   ]\n",
      "^^^^^^^^^^^^^^^^^^^^^^\n",
      "Player Action (Idle)\n",
      "Distance From Pipe (dx=0,dy=-3)\n"
     ]
    }
   ],
   "source": [
    "# initiate environment\n",
    "env = gym.make('TextFlappyBird-v0', height = 15, width = 20, pipe_gap = 4)\n",
    "obs = env.reset()\n",
    "\n",
    "while True:\n",
    "    # Select next action\n",
    "    action = env.action_space.sample()  # for an agent, action = agent.policy(observation)\n",
    "\n",
    "    # Appy action and return new observation of the environment\n",
    "    obs, reward, done, _, info = env.step(action)\n",
    "\n",
    "    # Render the game\n",
    "    os.system(\"clear\")\n",
    "    sys.stdout.write(env.render())\n",
    "    time.sleep(.1) # FPS\n",
    "    \n",
    "    clear_output(wait=True)\n",
    "    \n",
    "    # If player is dead break\n",
    "    if done:\n",
    "        break\n",
    "\n",
    "env.close()"
   ]
  },
  {
   "cell_type": "markdown",
   "id": "f3b220fb",
   "metadata": {},
   "source": [
    "## Method 1 : Q-learning: Off-policy TD Control"
   ]
  },
  {
   "cell_type": "markdown",
   "id": "6071b527",
   "metadata": {},
   "source": [
    "This implementation is based on the eponymous section 6.5 from __Sutton, R. S., & Barto, A. G. (2018). Reinforcement learning: An introduction. MIT press.__"
   ]
  },
  {
   "cell_type": "markdown",
   "id": "15ea5f96",
   "metadata": {},
   "source": [
    "First, we need to determine the possible states.\n",
    "\n",
    "In this environment, we will consider the states as the tuples (x, y) where x and y are respectively the longitudinal and vertical distances to the center of the closest upcoming pipe gap.\n",
    "\n",
    "Given the setup of the environment :\n",
    "- x can take integer values from 0 to width (=20)\n",
    "- y can take integer values from -height (=-15) to height (=15)"
   ]
  },
  {
   "cell_type": "code",
   "execution_count": 5,
   "id": "b78b9002",
   "metadata": {},
   "outputs": [],
   "source": [
    "class Q_learning_flappy_bird():\n",
    "    def __init__(self, env, width, height, pipe_gap):\n",
    "        \n",
    "        self.width = width\n",
    "        self.height = height\n",
    "        self.pipe_gap = pipe_gap\n",
    "        self.env = env\n",
    "        self.max_score = 2000\n",
    "        \n",
    "        n_x_states = self.width\n",
    "        n_y_states = 2 * self.height\n",
    "        self.state_space_x = list(range(self.width))\n",
    "        self.state_space_y = list(range(-self.height, self.height))\n",
    "        \n",
    "        self.Q = np.random.rand(n_x_states, n_y_states, 2) * 10\n",
    "        # Terminal conditions\n",
    "        self.Q[0, :, :] = 0\n",
    "        \n",
    "        self.train_iteration = -1\n",
    "        \n",
    "        self.score_history = []\n",
    "        self.death_causes = []\n",
    "        self.reward_history = []\n",
    "        \n",
    "        self.accuracy_history = []\n",
    "        \n",
    "        self.death_cause_play = None\n",
    "        self.score_play = None\n",
    "        self.reward_play = None\n",
    "    \n",
    "    \n",
    "    def _distance_to_state(self, x, y):\n",
    "        \"\"\"\n",
    "        Returns the index of the state given distances x and y.\n",
    "        \"\"\"\n",
    "        state_x = self.state_space_x.index(x)\n",
    "        state_y = self.state_space_y.index(y)\n",
    "        return state_x, state_y\n",
    "    \n",
    "    \n",
    "    def _argmax(self, q_values):\n",
    "        \"\"\"\n",
    "        Returns the argmax equiprobably in case of ties.\n",
    "        \"\"\"\n",
    "        top = float(\"-inf\")\n",
    "        \n",
    "        ties = []\n",
    "        for i in range(len(q_values)):\n",
    "            if q_values[i] == top:\n",
    "                ties.append(i)\n",
    "            elif q_values[i] > top:\n",
    "                ties = [i]\n",
    "                top = q_values[i]\n",
    "        \n",
    "        ind = np.random.choice(ties)\n",
    "        return ind\n",
    "    \n",
    "    def _step_size(self, alpha, i, i_lim=1000):\n",
    "        \"\"\"\n",
    "        Defines the step size choosing policy to assure convergence.\n",
    "        \"\"\"\n",
    "        if (i > i_lim):\n",
    "            return alpha / ((i - i_lim) ** 1)\n",
    "        else:\n",
    "            return alpha\n",
    "    \n",
    "    \n",
    "    def _epsilon_decay(self, epsilon, i, i_lim=1000):\n",
    "        if i <= i_lim:\n",
    "            return epsilon\n",
    "        return epsilon / ((i - i_lim) ** 1)\n",
    "    \n",
    "    \n",
    "    def _epsilon_greedy(self, epsilon, x, y):\n",
    "        \"\"\"\n",
    "        Defines the epsilon-greedy policy of training.\n",
    "        \"\"\"\n",
    "        random_number = np.random.random()\n",
    "        if random_number < epsilon:\n",
    "            action = self.env.action_space.sample()  # for an agent, action = agent.policy(observation)\n",
    "        else:\n",
    "            action = self._argmax(self.Q[x, y, :])\n",
    "        \n",
    "        return action\n",
    "    \n",
    "    def _render_game(self, i, top_score, sleep_time):\n",
    "        \"\"\"\n",
    "        Renders the game with a certain sleep time (1/FPS)\n",
    "        \"\"\"\n",
    "        os.system(\"clear\")\n",
    "        \n",
    "        if i:\n",
    "            print(f\"Episode : {i+1}/{n_episodes}\")\n",
    "            \n",
    "        print(\"Top score :\", top_score)\n",
    "        \n",
    "        sys.stdout.write(self.env.render())\n",
    "        \n",
    "        if sleep_time:\n",
    "            time.sleep(sleep_time) # FPS\n",
    "\n",
    "        clear_output(wait=True)\n",
    "    \n",
    "    \n",
    "    def _evaluate_distance_to_benchmark(self, Q_benchmark):\n",
    "        \"\"\"\n",
    "        This function calculates the accuracy between the Q of the current agent and a certain Q_Benchmark.\n",
    "        \"\"\"\n",
    "        benchmark_policy = np.argmax(Q_benchmark, axis=-1)\n",
    "        current_policy = np.argmax(self.Q, axis=-1)\n",
    "        \n",
    "        accuracy = np.sum(benchmark_policy == current_policy)\n",
    "        accuracy = accuracy / benchmark_policy.size\n",
    "        \n",
    "        return accuracy\n",
    "    \n",
    "\n",
    "    \n",
    "    def train(self, n_episodes, alpha, epsilon, gamma, i_lim=1000, Q_benchmark=None, show_episodes=True):\n",
    "        \"\"\"\n",
    "        Trains the Q-Learning model.\n",
    "        \"\"\"\n",
    "        top_score = float(\"-inf\")\n",
    "        \n",
    "        for i in range(n_episodes):\n",
    "            self.train_iteration += 1\n",
    "            \n",
    "            obs = self.env.reset()\n",
    "            x, y = obs[0]\n",
    "            x, y = self._distance_to_state(x, y)\n",
    "            \n",
    "            cumulative_reward = 0\n",
    "            \n",
    "            while True:\n",
    "                # Select next action\n",
    "                decayed_epsilon = self._epsilon_decay(epsilon, self.train_iteration, i_lim=i_lim)\n",
    "                action = self._epsilon_greedy(epsilon, x, y)\n",
    "\n",
    "                # Apply action and return new observation of the environment\n",
    "                obs, reward, done, _, info = self.env.step(action)\n",
    "                x_, y_ = obs\n",
    "                score = info['score']\n",
    "                if score > top_score:\n",
    "                    top_score = score\n",
    "                \n",
    "                # If we die, we set the reward to -100.\n",
    "                if done:\n",
    "                    reward = -100\n",
    "                    if x == 0:\n",
    "                        self.death_causes.append(\"Collision\")\n",
    "                    else:\n",
    "                        self.death_causes.append(\"Floor\")\n",
    "                \n",
    "                # If we reach the Max Score\n",
    "                if score == self.max_score:\n",
    "                    done = True\n",
    "                    self.death_causes.append(\"Max score\")\n",
    "                        \n",
    "                # If we manage to go through a gap, we get a reward of 10\n",
    "                elif x==0 and not done:\n",
    "                    reward = 1\n",
    "                \n",
    "                cumulative_reward += reward\n",
    "                \n",
    "                # Update the Q according to the Q-learning update equation\n",
    "                step_size = self._step_size(alpha, self.train_iteration, i_lim=i_lim)\n",
    "                self.Q[x, y, action] += step_size * (reward + gamma * np.max(self.Q[x_, y_, :]) - self.Q[x, y, action])\n",
    "                \n",
    "                # Update x and y\n",
    "                x, y = x_, y_\n",
    "                \n",
    "                # Calculate accuracy with respect to benchmark\n",
    "                if Q_benchmark is not None:\n",
    "                    self.accuracy_history.append(self._evaluate_distance_to_benchmark(Q_benchmark))\n",
    "                \n",
    "                # Render the game\n",
    "                if show_episodes:\n",
    "                    self._render_game(i, top_score, 0)\n",
    "\n",
    "                # If player is dead break\n",
    "                if done:\n",
    "                    self.Q[x, y, action] += step_size * (reward - self.Q[x, y, action])\n",
    "                    break\n",
    "            \n",
    "            self.score_history.append(score)\n",
    "            self.reward_history.append(cumulative_reward)\n",
    "\n",
    "        self.env.close()\n",
    "        \n",
    "        return self\n",
    "    \n",
    "    \n",
    "    def plot_training_rewards(self):\n",
    "        plt.plot(self.reward_history)\n",
    "        plt.xlabel(\"Training episodes\")\n",
    "        plt.ylabel(\"Rewards\")\n",
    "        \n",
    "        plt.show()\n",
    "    \n",
    "    \n",
    "    def play(self, display=True, sleep_time=0.1):\n",
    "        obs = self.env.reset()\n",
    "        x, y = obs[0]\n",
    "        x, y = self._distance_to_state(x, y)\n",
    "        self.reward_play = 0\n",
    "        \n",
    "        top_score = float(\"-inf\")\n",
    "\n",
    "        while True:\n",
    "            # Select next action\n",
    "            action = self._argmax(self.Q[x, y, :])\n",
    "\n",
    "            # Apply action and return new observation of the environment\n",
    "            obs, reward, done, _, info = self.env.step(action)\n",
    "            x, y = obs\n",
    "            \n",
    "            score = info['score']\n",
    "            if score > top_score:\n",
    "                top_score = score\n",
    "\n",
    "            \n",
    "            if not done and x == 0:\n",
    "                reward = 10\n",
    "            elif done:\n",
    "                reward = -100\n",
    "            self.reward_play += reward\n",
    "            \n",
    "            if done and (score != self.max_score):\n",
    "                if x == 0:\n",
    "                    self.death_cause_play = \"Collision\"\n",
    "                else:\n",
    "                    self.death_cause_play = \"Floor\"\n",
    "            \n",
    "            \n",
    "            #print(self.score_play)\n",
    "            # Render the game\n",
    "            if display:\n",
    "                self._render_game(None, top_score, sleep_time)\n",
    "            \n",
    "            # Early breaking if the agent performs well and doesn't stop\n",
    "            if score == self.max_score:\n",
    "                done = True\n",
    "                self.death_cause_play = \"Max Score\"\n",
    "\n",
    "            # If player is dead break\n",
    "            if done:\n",
    "                self.score_play = info['score']\n",
    "                break\n",
    "\n",
    "        self.env.close()\n",
    "        \n",
    "        return self"
   ]
  },
  {
   "cell_type": "markdown",
   "id": "c67376c6",
   "metadata": {},
   "source": [
    "To test our test, we first need initialize an environment and an agent."
   ]
  },
  {
   "cell_type": "code",
   "execution_count": 6,
   "id": "70cadc40",
   "metadata": {},
   "outputs": [],
   "source": [
    "height = 15\n",
    "width = 20\n",
    "pipe_gap = 4\n",
    "\n",
    "env = gym.make('TextFlappyBird-v0', \n",
    "               height = height, \n",
    "               width = width, \n",
    "               pipe_gap = pipe_gap)\n",
    "\n",
    "q_learning = Q_learning_flappy_bird(env=env, \n",
    "                                     width = width, \n",
    "                                     height = height, \n",
    "                                     pipe_gap = pipe_gap)"
   ]
  },
  {
   "cell_type": "markdown",
   "id": "1ba7d9df",
   "metadata": {},
   "source": [
    "#### Example of training"
   ]
  },
  {
   "cell_type": "markdown",
   "id": "e3e8b684",
   "metadata": {},
   "source": [
    "We then train our agent for 100 episodes with certain parameters."
   ]
  },
  {
   "cell_type": "code",
   "execution_count": 7,
   "id": "b5c876a8",
   "metadata": {},
   "outputs": [
    {
     "name": "stdout",
     "output_type": "stream",
     "text": [
      "\u001b[H\u001b[2JEpisode : 100/100\n",
      "Top score : 11\n",
      "Text Flappy Bird!\n",
      "Score: 1\n",
      "----------------------\n",
      "[      \u001b[32m|\u001b[0m         \u001b[32m|\u001b[0m   ]\n",
      "[      \u001b[32m|\u001b[0m         \u001b[32m|\u001b[0m   ]\n",
      "[      \u001b[32m|\u001b[0m             ]\n",
      "[                    ]\n",
      "[                    ]\n",
      "[                    ]\n",
      "[                \u001b[32m|\u001b[0m   ]\n",
      "[      \u001b[32m|\u001b[0m         \u001b[32m|\u001b[0m   ]\n",
      "[      \u001b[32m|\u001b[0m         \u001b[32m|\u001b[0m   ]\n",
      "[      \u001b[32m|\u001b[0m         \u001b[32m|\u001b[0m   ]\n",
      "[      \u001b[32m|\u001b[0m         \u001b[32m|\u001b[0m   ]\n",
      "[      \u001b[32m|\u001b[0m         \u001b[32m|\u001b[0m   ]\n",
      "[      \u001b[32m|\u001b[0m         \u001b[32m|\u001b[0m   ]\n",
      "[      \u001b[32m|\u001b[0m         \u001b[32m|\u001b[0m   ]\n",
      "[     \u001b[31m*\u001b[0m\u001b[32m|\u001b[0m         \u001b[32m|\u001b[0m   ]\n",
      "^^^^^^^^^^^^^^^^^^^^^^\n",
      "Player Action (Idle)\n",
      "Distance From Pipe (dx=0,dy=9)\n"
     ]
    }
   ],
   "source": [
    "n_episodes = 100\n",
    "alpha = 0.1\n",
    "epsilon = 0.1\n",
    "gamma = 0.9\n",
    "\n",
    "train_model = q_learning.train(n_episodes=n_episodes,\n",
    "                              alpha=alpha,\n",
    "                              gamma=gamma,\n",
    "                              epsilon=epsilon)"
   ]
  },
  {
   "cell_type": "markdown",
   "id": "ae028f26",
   "metadata": {},
   "source": [
    "## Do the rewards converge ?"
   ]
  },
  {
   "cell_type": "code",
   "execution_count": 8,
   "id": "bc884aca",
   "metadata": {},
   "outputs": [],
   "source": [
    "height = 15\n",
    "width = 20\n",
    "pipe_gap = 4\n",
    "\n",
    "env = gym.make('TextFlappyBird-v0', \n",
    "               height = height, \n",
    "               width = width, \n",
    "               pipe_gap = pipe_gap)"
   ]
  },
  {
   "cell_type": "markdown",
   "id": "ae413b27",
   "metadata": {},
   "source": [
    "We train 100 agents for 5000 episodes and examine the evolution of their training rewards (keep in mind that these are impacted by the $\\epsilon$-greedy policy)."
   ]
  },
  {
   "cell_type": "code",
   "execution_count": 9,
   "id": "2a4e6a10",
   "metadata": {},
   "outputs": [
    {
     "name": "stderr",
     "output_type": "stream",
     "text": [
      "100%|██████████████████████████████████████████████████████████████| 100/100 [09:22<00:00,  5.62s/it]\n"
     ]
    }
   ],
   "source": [
    "alpha = 0.1\n",
    "epsilon = .1\n",
    "gamma = .9\n",
    "\n",
    "train_episodes = 5000\n",
    "n_agents = 100\n",
    "\n",
    "rewards_array = []\n",
    "\n",
    "\n",
    "\n",
    "for i in tqdm(range(n_agents)):\n",
    "    q_learning = Q_learning_flappy_bird(env=env, \n",
    "                                          width = width, \n",
    "                                          height = height, \n",
    "                                          pipe_gap = pipe_gap)\n",
    "    \n",
    "    q_learning = q_learning.train(n_episodes=train_episodes,\n",
    "                                  alpha=alpha,\n",
    "                                  epsilon=epsilon,\n",
    "                                  gamma=gamma,\n",
    "                                  show_episodes=False)\n",
    "    \n",
    "    rewards_array.append(q_learning.reward_history)"
   ]
  },
  {
   "cell_type": "code",
   "execution_count": 10,
   "id": "096b95f3",
   "metadata": {},
   "outputs": [
    {
     "data": {
      "image/png": "[encoded data removed]",
      "text/plain": [
       "<Figure size 2000x800 with 1 Axes>"
      ]
     },
     "metadata": {},
     "output_type": "display_data"
    }
   ],
   "source": [
    "rewards_array = np.array(rewards_array)\n",
    "mean_rewards_per_step = np.mean(rewards_array, axis=0)\n",
    "\n",
    "window_size = 50\n",
    "moving_average_scores = np.convolve(mean_rewards_per_step, np.ones(window_size), 'valid') / window_size\n",
    "\n",
    "plt.plot(mean_rewards_per_step, label=\"Cumulative rewards\")\n",
    "plt.plot(moving_average_scores, label=\"Moving average\")\n",
    "\n",
    "plt.xlabel(\"Training Episodes\")\n",
    "plt.ylabel(\"Mean rewards across agents\")\n",
    "\n",
    "plt.title(\"Training rewards of the agent for the Q-Learning agent\")\n",
    "\n",
    "plt.legend()\n",
    "\n",
    "plt.show()"
   ]
  },
  {
   "cell_type": "markdown",
   "id": "7df6372d",
   "metadata": {},
   "source": [
    "The training rewards demonstrate a nice and steady convergence as we increase the training episodes. The values of the average rewards stagnates at around $-5$."
   ]
  },
  {
   "cell_type": "markdown",
   "id": "a6017cb7",
   "metadata": {},
   "source": [
    "### Examining the score with respect to the number of training episodes :"
   ]
  },
  {
   "cell_type": "markdown",
   "id": "ac588422",
   "metadata": {},
   "source": [
    "In this section, we investigate on the relationship between the number of training episodes and the median/mean score reached by the agent."
   ]
  },
  {
   "cell_type": "code",
   "execution_count": 11,
   "id": "e4b32fc7",
   "metadata": {},
   "outputs": [],
   "source": [
    "height = 15\n",
    "width = 20\n",
    "pipe_gap = 4\n",
    "\n",
    "env = gym.make('TextFlappyBird-v0', \n",
    "               height = height, \n",
    "               width = width, \n",
    "               pipe_gap = pipe_gap)\n",
    "\n",
    "q_learning = Q_learning_flappy_bird(env=env, \n",
    "                                      width = width, \n",
    "                                      height = height, \n",
    "                                      pipe_gap = pipe_gap)"
   ]
  },
  {
   "cell_type": "markdown",
   "id": "9e5f4cc7",
   "metadata": {},
   "source": [
    "To do this, we first start by selecting certain episodes that we want to perform the check on. We then initialize an agent that we train for the difference between each episode step (eg. if we already trained the agent for 200 episodes and the next episode step is 300, we will train the agent for the remaining 100 episodes). At each step, we make the agent play 100 games, and then take the mean and median score of those 100 plays.\n",
    "\n",
    "This allows us to plot the average and median score of the agent at each training episode step."
   ]
  },
  {
   "cell_type": "code",
   "execution_count": 12,
   "id": "f2a6734a",
   "metadata": {},
   "outputs": [
    {
     "name": "stdout",
     "output_type": "stream",
     "text": [
      "Training with 10 episodes :\n"
     ]
    },
    {
     "name": "stderr",
     "output_type": "stream",
     "text": [
      "100%|████████████████████████████████████████████████████████████| 100/100 [00:00<00:00, 6633.51it/s]\n"
     ]
    },
    {
     "name": "stdout",
     "output_type": "stream",
     "text": [
      "Training with 30 episodes :\n"
     ]
    },
    {
     "name": "stderr",
     "output_type": "stream",
     "text": [
      "100%|████████████████████████████████████████████████████████████| 100/100 [00:00<00:00, 4459.89it/s]\n"
     ]
    },
    {
     "name": "stdout",
     "output_type": "stream",
     "text": [
      "Training with 50 episodes :\n"
     ]
    },
    {
     "name": "stderr",
     "output_type": "stream",
     "text": [
      "100%|████████████████████████████████████████████████████████████| 100/100 [00:00<00:00, 1102.21it/s]\n"
     ]
    },
    {
     "name": "stdout",
     "output_type": "stream",
     "text": [
      "Training with 75 episodes :\n"
     ]
    },
    {
     "name": "stderr",
     "output_type": "stream",
     "text": [
      "100%|████████████████████████████████████████████████████████████| 100/100 [00:00<00:00, 1192.92it/s]\n"
     ]
    },
    {
     "name": "stdout",
     "output_type": "stream",
     "text": [
      "Training with 100 episodes :\n"
     ]
    },
    {
     "name": "stderr",
     "output_type": "stream",
     "text": [
      "100%|████████████████████████████████████████████████████████████| 100/100 [00:00<00:00, 1319.31it/s]\n"
     ]
    },
    {
     "name": "stdout",
     "output_type": "stream",
     "text": [
      "Training with 250 episodes :\n"
     ]
    },
    {
     "name": "stderr",
     "output_type": "stream",
     "text": [
      "100%|████████████████████████████████████████████████████████████| 100/100 [00:00<00:00, 3016.23it/s]\n"
     ]
    },
    {
     "name": "stdout",
     "output_type": "stream",
     "text": [
      "Training with 400 episodes :\n"
     ]
    },
    {
     "name": "stderr",
     "output_type": "stream",
     "text": [
      "100%|█████████████████████████████████████████████████████████████| 100/100 [00:00<00:00, 644.70it/s]\n"
     ]
    },
    {
     "name": "stdout",
     "output_type": "stream",
     "text": [
      "Training with 700 episodes :\n"
     ]
    },
    {
     "name": "stderr",
     "output_type": "stream",
     "text": [
      "100%|█████████████████████████████████████████████████████████████| 100/100 [00:00<00:00, 160.60it/s]\n"
     ]
    },
    {
     "name": "stdout",
     "output_type": "stream",
     "text": [
      "Training with 1000 episodes :\n"
     ]
    },
    {
     "name": "stderr",
     "output_type": "stream",
     "text": [
      "100%|██████████████████████████████████████████████████████████████| 100/100 [00:15<00:00,  6.37it/s]\n"
     ]
    },
    {
     "name": "stdout",
     "output_type": "stream",
     "text": [
      "Training with 1250 episodes :\n"
     ]
    },
    {
     "name": "stderr",
     "output_type": "stream",
     "text": [
      "100%|██████████████████████████████████████████████████████████████| 100/100 [00:16<00:00,  5.97it/s]\n"
     ]
    },
    {
     "name": "stdout",
     "output_type": "stream",
     "text": [
      "Training with 1500 episodes :\n"
     ]
    },
    {
     "name": "stderr",
     "output_type": "stream",
     "text": [
      "100%|██████████████████████████████████████████████████████████████| 100/100 [00:03<00:00, 26.37it/s]\n"
     ]
    },
    {
     "name": "stdout",
     "output_type": "stream",
     "text": [
      "Training with 1750 episodes :\n"
     ]
    },
    {
     "name": "stderr",
     "output_type": "stream",
     "text": [
      "100%|██████████████████████████████████████████████████████████████| 100/100 [00:03<00:00, 28.24it/s]\n"
     ]
    },
    {
     "name": "stdout",
     "output_type": "stream",
     "text": [
      "Training with 2000 episodes :\n"
     ]
    },
    {
     "name": "stderr",
     "output_type": "stream",
     "text": [
      "100%|██████████████████████████████████████████████████████████████| 100/100 [00:04<00:00, 23.96it/s]\n"
     ]
    },
    {
     "name": "stdout",
     "output_type": "stream",
     "text": [
      "Training with 2500 episodes :\n"
     ]
    },
    {
     "name": "stderr",
     "output_type": "stream",
     "text": [
      "100%|██████████████████████████████████████████████████████████████| 100/100 [00:04<00:00, 22.88it/s]\n"
     ]
    },
    {
     "name": "stdout",
     "output_type": "stream",
     "text": [
      "Training with 3000 episodes :\n"
     ]
    },
    {
     "name": "stderr",
     "output_type": "stream",
     "text": [
      "100%|██████████████████████████████████████████████████████████████| 100/100 [00:03<00:00, 27.69it/s]\n"
     ]
    }
   ],
   "source": [
    "alpha = 0.1\n",
    "epsilon = 0.1\n",
    "gamma = .9\n",
    "\n",
    "start_n_episodes = 10\n",
    "end_n_episodes = 3000\n",
    "\n",
    "episodes_array = [10, 30, 50, 75, 100, 250, 400, 700, 1000, 1250, 1500, 1750, 2000, 2500, 3000]\n",
    "episodes_increments = [start_n_episodes] + list(np.diff(episodes_array))\n",
    "\n",
    "raw_results = []\n",
    "median_scores = []\n",
    "mean_scores = []\n",
    "dict_scores = {}\n",
    "\n",
    "for i, n_episodes in enumerate(episodes_increments):\n",
    "    train_model = q_learning.train(n_episodes=n_episodes,\n",
    "                                      alpha=alpha,\n",
    "                                      epsilon=epsilon,\n",
    "                                      gamma=gamma,\n",
    "                                      i_lim=1500,\n",
    "                                      show_episodes=False)\n",
    "\n",
    "    n_plays = 100\n",
    "    print(f\"Training with {episodes_array[i]} episodes :\")\n",
    "    scores = []\n",
    "    for _ in tqdm(range(n_plays)):\n",
    "        model = train_model.play(False, sleep_time=0)\n",
    "        scores.append(model.score_play)\n",
    "        raw_results.append(model.score_play)\n",
    "    \n",
    "    dict_scores[episodes_array[i]] = scores\n",
    "        \n",
    "    median_scores.append(np.median(scores))\n",
    "    mean_scores.append(np.mean(scores))"
   ]
  },
  {
   "cell_type": "code",
   "execution_count": 13,
   "id": "941d8088",
   "metadata": {},
   "outputs": [
    {
     "data": {
      "image/png": "[encoded data removed]",
      "text/plain": [
       "<Figure size 2000x800 with 1 Axes>"
      ]
     },
     "metadata": {},
     "output_type": "display_data"
    }
   ],
   "source": [
    "plt.plot(episodes_array, mean_scores, label=\"Mean scores\")\n",
    "plt.plot(episodes_array, median_scores, label=\"Median scores\")\n",
    "\n",
    "plt.title(\"Evolution of the scores of agents\")\n",
    "\n",
    "plt.xlabel(\"Number of training episodes\")\n",
    "plt.ylabel(\"Score\")\n",
    "\n",
    "plt.title(\"Mean and median score of the Q-Learning agent after certain training steps\")\n",
    "\n",
    "plt.yscale('log')\n",
    "\n",
    "plt.legend()\n",
    "\n",
    "plt.show()"
   ]
  },
  {
   "cell_type": "markdown",
   "id": "a439ecba",
   "metadata": {},
   "source": [
    "We get convergence towards the optimal policy after 2000 episodes. To set a benchmark for the agent in order to test the convergence and performances, we will train a model for 5000 episodes to allow a certain margin.\n",
    "\n",
    "Notice how the performance drops before going up again. We suspect that this is due to the learning rate or step size $\\alpha$ that might be too big. That's why we introduce the parameter `i_lim` that indicated the training episode at which we start the decrease of the step size. We will try to optimize this parameter down below."
   ]
  },
  {
   "cell_type": "markdown",
   "id": "f2f3b2c9",
   "metadata": {},
   "source": [
    "## Convergence rate and impact of parameters"
   ]
  },
  {
   "cell_type": "markdown",
   "id": "3dc1217d",
   "metadata": {},
   "source": [
    "In this section, we will perform parameter sweeps to see how each parameter impacts the performance of the agent.\n",
    "\n",
    "To do so, we will vary one parameter while keeping all the others constant. We train train and agent for 3000 episodes and make it play 20 games for each parameter value. We then plot the evolution of the agent's score with respect to the studied parameter."
   ]
  },
  {
   "cell_type": "markdown",
   "id": "63c35138",
   "metadata": {},
   "source": [
    "### Impact of $\\alpha$"
   ]
  },
  {
   "cell_type": "code",
   "execution_count": 14,
   "id": "55b52c69",
   "metadata": {},
   "outputs": [
    {
     "name": "stderr",
     "output_type": "stream",
     "text": [
      "100%|██████████████████████████████████████████████████████████████████| 5/5 [05:06<00:00, 61.25s/it]\n"
     ]
    }
   ],
   "source": [
    "alpha_range = [0.01, 0.05, 0.1, 0.2, 0.5]\n",
    "epsilon = 0.1\n",
    "gamma = 0.9\n",
    "i_lim = 3000\n",
    "\n",
    "n_episodes = 3000\n",
    "\n",
    "n_plays = 20\n",
    "\n",
    "scores_list = []\n",
    "\n",
    "for alpha in tqdm(alpha_range):\n",
    "    average_score = 0\n",
    "    \n",
    "    for _ in range(n_plays):\n",
    "        q_learning = Q_learning_flappy_bird(env=env, \n",
    "                                          width = width, \n",
    "                                          height = height, \n",
    "                                          pipe_gap = pipe_gap)\n",
    "        \n",
    "        q_learning = q_learning.train(n_episodes=n_episodes,\n",
    "                                    alpha=alpha,\n",
    "                                    epsilon=epsilon,\n",
    "                                    gamma=gamma,\n",
    "                                    show_episodes=False,\n",
    "                                    i_lim=i_lim\n",
    "                                   )\n",
    "        \n",
    "\n",
    "        q_learning = q_learning.play(False)\n",
    "        average_score += q_learning.score_play / n_plays\n",
    "        \n",
    "    scores_list.append(average_score)\n",
    "        "
   ]
  },
  {
   "cell_type": "code",
   "execution_count": 15,
   "id": "4681b2e3",
   "metadata": {},
   "outputs": [
    {
     "data": {
      "image/png": "[encoded data removed]",
      "text/plain": [
       "<Figure size 2000x800 with 1 Axes>"
      ]
     },
     "metadata": {},
     "output_type": "display_data"
    }
   ],
   "source": [
    "plt.plot(alpha_range, scores_list)\n",
    "plt.axhline(y = 2000, color = 'r', linestyle = '--')\n",
    "\n",
    "plt.xlabel(r\"$\\alpha$\")\n",
    "plt.ylabel(\"Average score\")\n",
    "\n",
    "plt.title(fr\"Average scores wrt $\\alpha$ with $\\epsilon$ = {epsilon}, $\\gamma$ = {gamma}. (Q-Learning)\")\n",
    "\n",
    "plt.show()"
   ]
  },
  {
   "cell_type": "markdown",
   "id": "48d566d8",
   "metadata": {},
   "source": [
    "We notice that for very low values of $\\alpha$, we get a very poor performance, and that for very high values of $\\alpha$, the score decreases. \n",
    "\n",
    "$\\alpha$ represents the step size or learning rate of the agent. Therefore, when the $\\alpha$ is very low, the agent learns slowly and doesn't have time to reach the optimal policy. Whereas when $\\alpha$ is very large, the agent has trouble to converge when it gets closer to the optimal policy. Therefore, the optimal $\\alpha$ sits in between."
   ]
  },
  {
   "cell_type": "markdown",
   "id": "6cf52f4d",
   "metadata": {},
   "source": [
    "### Impact of $\\epsilon$"
   ]
  },
  {
   "cell_type": "code",
   "execution_count": 16,
   "id": "7518b445",
   "metadata": {},
   "outputs": [
    {
     "name": "stderr",
     "output_type": "stream",
     "text": [
      "100%|██████████████████████████████████████████████████████████████████| 5/5 [07:07<00:00, 85.56s/it]\n"
     ]
    }
   ],
   "source": [
    "alpha = 0.1\n",
    "epsilon_range = [0.01, 0.05, 0.1, 0.2, 0.5]\n",
    "gamma = 0.9\n",
    "i_lim = 2000\n",
    "\n",
    "n_episodes = 3000\n",
    "\n",
    "n_plays = 10\n",
    "\n",
    "scores_list = []\n",
    "\n",
    "for epsilon in tqdm(epsilon_range):\n",
    "    average_score = 0\n",
    "    \n",
    "    for _ in range(n_plays):\n",
    "        q_learning = Q_learning_flappy_bird(env=env, \n",
    "                                          width = width, \n",
    "                                          height = height, \n",
    "                                          pipe_gap = pipe_gap)\n",
    "        \n",
    "        q_learning = q_learning.train(n_episodes=n_episodes,\n",
    "                                    alpha=alpha,\n",
    "                                    epsilon=epsilon,\n",
    "                                    gamma=gamma,\n",
    "                                    show_episodes=False,\n",
    "                                    i_lim=i_lim\n",
    "                                   )\n",
    "        \n",
    "\n",
    "        q_learning = q_learning.play(False)\n",
    "        average_score += q_learning.score_play / n_plays\n",
    "        \n",
    "    scores_list.append(average_score)"
   ]
  },
  {
   "cell_type": "code",
   "execution_count": 17,
   "id": "60305d77",
   "metadata": {},
   "outputs": [
    {
     "data": {
      "image/png": "[encoded data removed]",
      "text/plain": [
       "<Figure size 2000x800 with 1 Axes>"
      ]
     },
     "metadata": {},
     "output_type": "display_data"
    }
   ],
   "source": [
    "plt.plot(epsilon_range, scores_list)\n",
    "plt.axhline(y = 2000, color = 'r', linestyle = '--')\n",
    "\n",
    "plt.xlabel(r\"$\\epsilon$\")\n",
    "plt.ylabel(\"Average score\")\n",
    "\n",
    "plt.title(fr\"Average scores wrt $\\epsilon$ with $\\alpha$ = {alpha}, $\\gamma$ = {gamma}. (Q-Learning)\")\n",
    "\n",
    "plt.show()"
   ]
  },
  {
   "cell_type": "markdown",
   "id": "1076025a",
   "metadata": {},
   "source": [
    "We notice that for very low values of $\\epsilon$, the performance is optimal as it constantly reaches 2000. However, as we increase $\\epsilon$, the agent does too much exploration and very little exploitation, therfore it doesn't converge in due time. We also note that Q-Learning is an algorithm that notoriously doesn't do much exploration (cf. the Cliff Walking problem we saw in the Lab Session), therefore it isn't really impacted by how low the $\\epsilon$ is."
   ]
  },
  {
   "cell_type": "markdown",
   "id": "9376f25a",
   "metadata": {},
   "source": [
    "### Impact of i_lim"
   ]
  },
  {
   "cell_type": "markdown",
   "id": "f3047192",
   "metadata": {},
   "source": [
    "i_lim is the episode number after which we start decreasing the step size $\\alpha$ hyperbolically to assure convergence."
   ]
  },
  {
   "cell_type": "code",
   "execution_count": 18,
   "id": "bf71d3a9",
   "metadata": {},
   "outputs": [
    {
     "name": "stderr",
     "output_type": "stream",
     "text": [
      "100%|██████████████████████████████████████████████████████████████████| 5/5 [05:35<00:00, 67.09s/it]\n"
     ]
    }
   ],
   "source": [
    "alpha = 0.1\n",
    "epsilon = 0.1\n",
    "gamma = 0.9\n",
    "i_lim_range = [1000, 1500, 2000, 2500, 3000]\n",
    "\n",
    "n_episodes = 3000\n",
    "\n",
    "n_plays = 20\n",
    "\n",
    "scores_list = []\n",
    "\n",
    "for i_lim in tqdm(i_lim_range):\n",
    "    average_score = 0\n",
    "    \n",
    "    for _ in range(n_plays):\n",
    "        q_learning = Q_learning_flappy_bird(env=env, \n",
    "                                          width = width, \n",
    "                                          height = height, \n",
    "                                          pipe_gap = pipe_gap)\n",
    "        \n",
    "        q_learning = q_learning.train(n_episodes=n_episodes,\n",
    "                                    alpha=alpha,\n",
    "                                    epsilon=epsilon,\n",
    "                                    gamma=gamma,\n",
    "                                    show_episodes=False,\n",
    "                                    i_lim=i_lim\n",
    "                                   )\n",
    "        \n",
    "\n",
    "        q_learning = q_learning.play(False)\n",
    "        average_score += q_learning.score_play / n_plays\n",
    "        \n",
    "    scores_list.append(average_score)"
   ]
  },
  {
   "cell_type": "code",
   "execution_count": 19,
   "id": "ba6d7998",
   "metadata": {
    "scrolled": false
   },
   "outputs": [
    {
     "data": {
      "image/png": "[encoded data removed]",
      "text/plain": [
       "<Figure size 2000x800 with 1 Axes>"
      ]
     },
     "metadata": {},
     "output_type": "display_data"
    }
   ],
   "source": [
    "plt.plot(i_lim_range, scores_list)\n",
    "plt.axhline(y = 2000, color = 'r', linestyle = '--')\n",
    "\n",
    "plt.xlabel(\"i_lim\")\n",
    "plt.ylabel(\"Average score\")\n",
    "\n",
    "plt.title(fr\"Average scores wrt i_lim with $\\alpha$ = {alpha}, $\\gamma$ = {gamma}, $\\epsilon = {epsilon}. (Q-Learning)\")\n",
    "\n",
    "plt.show()"
   ]
  },
  {
   "cell_type": "markdown",
   "id": "7958eabd",
   "metadata": {},
   "source": [
    "For low values of i_lim, we start decreasing the step size very early on, therefore we find ourselves in the case of a low $\\alpha$. In the other case of high i_lim, since we train the agent for 3000 episodes, there is no decrease in step size, which hampers learning when we get closer to the optimum."
   ]
  },
  {
   "cell_type": "markdown",
   "id": "44b079c7",
   "metadata": {},
   "source": [
    "### Hyperparameter grid search"
   ]
  },
  {
   "cell_type": "markdown",
   "id": "8749582d",
   "metadata": {},
   "source": [
    "We perform a gird search on the space of hyperparameters. We will try all the different combinations of the parameters that we give it. We then train `n_trains` different agents that we make play `n_plays` times each. We then average their scores on each episode to obtain the plots of the evolution of the score."
   ]
  },
  {
   "cell_type": "markdown",
   "id": "15cfc232",
   "metadata": {},
   "source": [
    "The following function returns the list of mean and median scores of the Q Learning agent for a certain combination of parameters : $\\alpha$, $\\epsilon$, $\\gamma$, $i_{lim}$."
   ]
  },
  {
   "cell_type": "code",
   "execution_count": 20,
   "id": "c1db9f37",
   "metadata": {},
   "outputs": [],
   "source": [
    "def examine_parameter_combination_Q_learning(alpha, epsilon, gamma, i_lim, n_plays=20):\n",
    "    height = 15\n",
    "    width = 20\n",
    "    pipe_gap = 4\n",
    "\n",
    "    env = gym.make('TextFlappyBird-v0', \n",
    "                   height = height, \n",
    "                   width = width, \n",
    "                   pipe_gap = pipe_gap)\n",
    "\n",
    "    q_learning = Q_learning_flappy_bird(env=env, \n",
    "                                      width = width, \n",
    "                                      height = height, \n",
    "                                      pipe_gap = pipe_gap)\n",
    "\n",
    "    start_n_episodes = 10\n",
    "    \n",
    "    episodes_array = [10, 30, 50, 75, 100, 250, 400, 700, 1000, 1250, 1500, 1750, 2000, 2500, 3000]\n",
    "    episodes_increments = [episodes_array[0]] + list(np.diff(episodes_array))\n",
    "\n",
    "\n",
    "    median_scores = []\n",
    "    mean_scores = []\n",
    "\n",
    "    for i, n_episodes in enumerate(episodes_increments):\n",
    "        train_model = q_learning.train(n_episodes=n_episodes,\n",
    "                                          alpha=alpha,\n",
    "                                          epsilon=epsilon,\n",
    "                                          gamma=gamma,\n",
    "                                          i_lim=i_lim,\n",
    "                                          show_episodes=False)\n",
    "        \n",
    "        scores = []\n",
    "        for _ in range(n_plays):\n",
    "            model = train_model.play(False)\n",
    "            scores.append(model.score_play)\n",
    "\n",
    "\n",
    "        median_scores.append(np.median(scores))\n",
    "        mean_scores.append(np.mean(scores))\n",
    "    \n",
    "    return median_scores, mean_scores"
   ]
  },
  {
   "cell_type": "markdown",
   "id": "483db55c",
   "metadata": {},
   "source": [
    "The following function returns the mean and median scores evolution with respect to the training episodes across all combinations of the arrays of hyperparameters."
   ]
  },
  {
   "cell_type": "code",
   "execution_count": 21,
   "id": "7db16996",
   "metadata": {},
   "outputs": [],
   "source": [
    "def hyperparameter_tuning_Q_learning(alpha_range, epsilon_range, gamma_range, i_max_range, n_trains=10, n_plays=20):\n",
    "    if type(alpha_range) == int or type(alpha_range) == float:\n",
    "        alpha_range = [alpha_range]\n",
    "    if type(epsilon_range) == int or type(epsilon_range) == float:\n",
    "        epsilon_range = [epsilon_range]\n",
    "    if type(gamma_range) == int or type(gamma_range) == float:\n",
    "        gamma_range = [gamma_range]\n",
    "    if type(i_max_range) == int or type(i_max_range) == float:\n",
    "        i_max_range = [i_max_range]\n",
    "    \n",
    "    \n",
    "    param_combinations = list(product(alpha_range, epsilon_range, gamma_range, i_max_range))\n",
    "    \n",
    "    result_dict = {'combinations' : [],\n",
    "                   'alpha' : [],\n",
    "                   'epsilon' : [],\n",
    "                   'gamma' : [],\n",
    "                   'i_max' : [],\n",
    "                   'mean_score' : [],\n",
    "                   'median_score' : [],\n",
    "                   }\n",
    "    \n",
    "    for alpha, epsilon, gamma, i_max in tqdm(param_combinations, disable=False):\n",
    "        \n",
    "        #print(alpha, epsilon, gamma, i_max)\n",
    "        \n",
    "        mean_score_array_comb = []\n",
    "        median_score_array_comb = []\n",
    "        \n",
    "        for _ in range(n_trains):\n",
    "            median_scores_comb, mean_scores_comb = examine_parameter_combination_Q_learning(alpha, \n",
    "                                                                                            epsilon, \n",
    "                                                                                            gamma, \n",
    "                                                                                            i_max,\n",
    "                                                                                            n_plays=n_plays,\n",
    "                                                                                            )\n",
    "            mean_score_array_comb.append(mean_scores_comb)\n",
    "            median_score_array_comb.append(median_scores_comb)\n",
    "        \n",
    "        mean_score_array_comb = np.mean(np.array(mean_score_array_comb), axis=0)\n",
    "        median_score_array_comb = np.mean(np.array(median_score_array_comb), axis=0)\n",
    "        \n",
    "        result_dict['combinations'].append((alpha, epsilon, gamma, i_max))\n",
    "        result_dict['alpha'].append(alpha)\n",
    "        result_dict['epsilon'].append(epsilon)\n",
    "        result_dict['gamma'].append(gamma)\n",
    "        result_dict['i_max'].append(i_max)\n",
    "        result_dict['mean_score'].append(mean_score_array_comb)\n",
    "        result_dict['median_score'].append(median_score_array_comb)\n",
    "    \n",
    "    return result_dict\n",
    "    "
   ]
  },
  {
   "cell_type": "markdown",
   "id": "30e1cc79",
   "metadata": {},
   "source": [
    "We perform the gird search on the following parameters :\n",
    "- $\\alpha \\in [0.05, 0.1, 0.2]$\n",
    "- $\\epsilon \\in [0.05, 0.1]$\n",
    "- $\\gamma \\in [0.9, 1]$\n",
    "- $i_{lim} \\in [1500, 2000, 2500]$"
   ]
  },
  {
   "cell_type": "code",
   "execution_count": null,
   "id": "9dbec090",
   "metadata": {},
   "outputs": [
    {
     "name": "stderr",
     "output_type": "stream",
     "text": [
      " 75%|█████████████████████████████████████████████▊               | 27/36 [1:07:45<26:21, 175.75s/it]"
     ]
    }
   ],
   "source": [
    "alpha_range = [0.05, 0.1, 0.2]\n",
    "epsilon_range = [0.05, 0.1]\n",
    "gamma_range = [0.9, 1]\n",
    "i_max_range = [1500, 2000, 2500]\n",
    "\n",
    "n_trains = 10\n",
    "n_plays = 20\n",
    "\n",
    "result_dict = hyperparameter_tuning_Q_learning(alpha_range, \n",
    "                                                epsilon_range, \n",
    "                                                gamma_range, \n",
    "                                                i_max_range, \n",
    "                                                n_trains = n_trains, \n",
    "                                                n_plays = n_plays)\n"
   ]
  },
  {
   "cell_type": "markdown",
   "id": "b01b570a",
   "metadata": {},
   "source": [
    "We get the following `DataFrame`as a result."
   ]
  },
  {
   "cell_type": "code",
   "execution_count": null,
   "id": "c1db9bb6",
   "metadata": {},
   "outputs": [],
   "source": [
    "Q_result_df = pd.DataFrame(result_dict)\n",
    "\n",
    "# We save the DataFrame\n",
    "Q_result_df.to_csv(\"Hyperparameter results Q-Learning\")\n",
    "\n",
    "Q_result_df.head()"
   ]
  },
  {
   "cell_type": "markdown",
   "id": "bc93c70e",
   "metadata": {},
   "source": [
    "We display the best score curves"
   ]
  },
  {
   "cell_type": "code",
   "execution_count": null,
   "id": "0a88961b",
   "metadata": {},
   "outputs": [],
   "source": [
    "episodes_array = [10, 30, 50, 75, 100, 250, 400, 700, 1000, 1250, 1500, 1750, 2000, 2500, 3000]\n",
    "\n",
    "for index, row in Q_result_df.iterrows():\n",
    "    alpha = row['alpha']\n",
    "    epsilon = row['epsilon']\n",
    "    gamma = row['gamma']\n",
    "    i_max = row['i_max']\n",
    "    \n",
    "    median_score = row['median_score']\n",
    "    mean_score = row['mean_score']\n",
    "    \n",
    "    instances_max = np.sum(np.array(mean_score) == 2000)\n",
    "    \n",
    "    # We only select the curves that reach 2000 more than twice\n",
    "    if instances_max > 3 :\n",
    "    \n",
    "        label = fr\"$\\alpha$={alpha}, $\\epsilon$={epsilon}, $\\gamma$={gamma}, i_max={i_max}\"\n",
    "\n",
    "        plt.plot(episodes_array, mean_score, label=label)\n",
    "\n",
    "plt.xlabel(\"Training episodes\")\n",
    "plt.ylabel(\"Score\")\n",
    "\n",
    "plt.title(\"Mean score convergence wrt. the number of training episodes for different hyperparameter combinations\")\n",
    "\n",
    "plt.legend()\n",
    "\n",
    "plt.show()"
   ]
  },
  {
   "cell_type": "markdown",
   "id": "a1c5513c",
   "metadata": {},
   "source": [
    "## State-action function"
   ]
  },
  {
   "cell_type": "markdown",
   "id": "abaa6271",
   "metadata": {},
   "source": [
    "We obtain the state-action function by plotting the Q-matrix as a heatmap. We train an agent for 10'000 episodes and observe how the matrix looks."
   ]
  },
  {
   "cell_type": "code",
   "execution_count": null,
   "id": "6d7e55ca",
   "metadata": {},
   "outputs": [],
   "source": [
    "height = 15\n",
    "width = 20\n",
    "pipe_gap = 4\n",
    "\n",
    "env = gym.make('TextFlappyBird-v0', \n",
    "               height = height, \n",
    "               width = width, \n",
    "               pipe_gap = pipe_gap)"
   ]
  },
  {
   "cell_type": "code",
   "execution_count": null,
   "id": "f91f75d6",
   "metadata": {},
   "outputs": [],
   "source": [
    "alpha = 0.2\n",
    "epsilon = 0.01\n",
    "gamma = .8\n",
    "\n",
    "benchmark_episodes = 10000\n",
    "\n",
    "benchmark_agent = Q_learning_flappy_bird(env=env, \n",
    "                                            width = width, \n",
    "                                            height = height, \n",
    "                                            pipe_gap = pipe_gap)\n",
    "    \n",
    "benchmark_agent = benchmark_agent.train(n_episodes=benchmark_episodes,\n",
    "                                        alpha=alpha,\n",
    "                                        epsilon=epsilon,\n",
    "                                        gamma=gamma,\n",
    "                                        show_episodes=False)"
   ]
  },
  {
   "cell_type": "code",
   "execution_count": null,
   "id": "9ea0feb5",
   "metadata": {},
   "outputs": [],
   "source": [
    "benchmark_policy = np.argmax(benchmark_agent.Q, axis=-1)\n",
    "benchmark_policy = benchmark_policy[::-1, ::-1]"
   ]
  },
  {
   "cell_type": "markdown",
   "id": "5b0e5c12",
   "metadata": {},
   "source": [
    "We apply a 4x4 convolution to apply the average over a square of side 4 in order to smoothen the matrix."
   ]
  },
  {
   "cell_type": "code",
   "execution_count": null,
   "id": "0bf39b65",
   "metadata": {},
   "outputs": [],
   "source": [
    "window = np.ones((4, 4))\n",
    "window = window / window.size\n",
    "benchmark_policy_average = convolve2d(benchmark_policy, window, mode='valid')"
   ]
  },
  {
   "cell_type": "code",
   "execution_count": null,
   "id": "b69b3d2c",
   "metadata": {},
   "outputs": [],
   "source": [
    "extent = [20 , 0, 15 , -15]\n",
    "\n",
    "plt.imshow(benchmark_policy_average.T, cmap='hot', extent=extent)\n",
    "\n",
    "plt.colorbar()\n",
    "\n",
    "plt.xlabel(\"Horizontal distance to center of gap\")\n",
    "plt.ylabel(\"Vertical distance to center of gap\")\n",
    "\n",
    "plt.title(\"State-value heat map for Q-Learning\")\n",
    "\n",
    "plt.show()"
   ]
  },
  {
   "cell_type": "markdown",
   "id": "f87ff2ea",
   "metadata": {},
   "source": [
    "## Method 2 : Expected SARSA"
   ]
  },
  {
   "cell_type": "markdown",
   "id": "359a85f7",
   "metadata": {},
   "source": [
    "This implementation is based on the eponymous section 6.6 from __Sutton, R. S., & Barto, A. G. (2018). Reinforcement learning: An introduction. MIT press.__"
   ]
  },
  {
   "cell_type": "markdown",
   "id": "a7ae98e7",
   "metadata": {},
   "source": [
    "We structure of the following class is very similar to that of the Q Learning one. Indeed, the only difference is the update formula of the Q matrix, as is outlined in the reference book cited above. For ease of notation, even though the following class is named `SARSA_flappy_bird`, it is indeed an implementation of the Expected SARSA algorithm."
   ]
  },
  {
   "cell_type": "code",
   "execution_count": null,
   "id": "70e813ff",
   "metadata": {},
   "outputs": [],
   "source": [
    "class SARSA_flappy_bird():\n",
    "    def __init__(self, env, width, height, pipe_gap):\n",
    "        \n",
    "        self.width = width\n",
    "        self.height = height\n",
    "        self.pipe_gap = pipe_gap\n",
    "        self.env = env\n",
    "        self.max_score = 2000\n",
    "        \n",
    "        n_x_states = self.width\n",
    "        n_y_states = 2 * self.height\n",
    "        self.state_space_x = list(range(self.width))\n",
    "        self.state_space_y = list(range(-self.height, self.height))\n",
    "        \n",
    "        self.Q = np.random.rand(n_x_states, n_y_states, 2) * 10\n",
    "        # Terminal conditions\n",
    "        self.Q[0, :, :] = 0\n",
    "        \n",
    "        self.train_iteration = -1\n",
    "        \n",
    "        self.score_history = []\n",
    "        self.death_causes = []\n",
    "        self.reward_history = []\n",
    "        \n",
    "        self.accuracy_history = []\n",
    "        \n",
    "        self.death_cause_play = None\n",
    "        self.score_play = None\n",
    "        self.reward_play = None\n",
    "    \n",
    "    \n",
    "    def _distance_to_state(self, x, y):\n",
    "        \"\"\"\n",
    "        Returns the index of the state given distances x and y.\n",
    "        \"\"\"\n",
    "        state_x = self.state_space_x.index(x)\n",
    "        state_y = self.state_space_y.index(y)\n",
    "        return state_x, state_y\n",
    "    \n",
    "    \n",
    "    def _argmax(self, q_values):\n",
    "        \"\"\"\n",
    "        Returns the argmax equiprobably in case of ties.\n",
    "        \"\"\"\n",
    "        top = float(\"-inf\")\n",
    "        \n",
    "        ties = []\n",
    "        for i in range(len(q_values)):\n",
    "            if q_values[i] == top:\n",
    "                ties.append(i)\n",
    "            elif q_values[i] > top:\n",
    "                ties = [i]\n",
    "                top = q_values[i]\n",
    "        \n",
    "        ind = np.random.choice(ties)\n",
    "        return ind\n",
    "    \n",
    "    def _step_size(self, alpha, i, i_lim=1000):\n",
    "        \"\"\"\n",
    "        Defines the step size choosing policy to assure convergence.\n",
    "        \"\"\"\n",
    "        if (i > i_lim):\n",
    "            return alpha / ((i - i_lim) ** 1)\n",
    "        else:\n",
    "            return alpha\n",
    "    \n",
    "    \n",
    "    def _epsilon_decay(self, epsilon, i, i_lim=1000):\n",
    "        if i <= i_lim:\n",
    "            return epsilon\n",
    "        return epsilon / ((i - i_lim) ** 1)\n",
    "    \n",
    "    \n",
    "    def _epsilon_greedy(self, epsilon, x, y):\n",
    "        \"\"\"\n",
    "        Defines the epsilon-greedy policy of training.\n",
    "        \"\"\"\n",
    "        random_number = np.random.random()\n",
    "        if random_number < epsilon:\n",
    "            action = self.env.action_space.sample()  # for an agent, action = agent.policy(observation)\n",
    "        else:\n",
    "            action = self._argmax(self.Q[x, y, :])\n",
    "        \n",
    "        return action\n",
    "    \n",
    "    def _render_game(self, i, top_score, sleep_time):\n",
    "        \"\"\"\n",
    "        Renders the game with a certain sleep time (1/FPS)\n",
    "        \"\"\"\n",
    "        os.system(\"clear\")\n",
    "        \n",
    "        if i:\n",
    "            print(f\"Episode : {i+1}/{n_episodes}\")\n",
    "            \n",
    "        print(\"Top score :\", top_score)\n",
    "        \n",
    "        sys.stdout.write(self.env.render())\n",
    "        \n",
    "        if sleep_time:\n",
    "            time.sleep(sleep_time) # FPS\n",
    "\n",
    "        clear_output(wait=True)\n",
    "    \n",
    "    \n",
    "    def _evaluate_distance_to_benchmark(self, Q_benchmark):\n",
    "        benchmark_policy = np.argmax(Q_benchmark, axis=-1)\n",
    "        current_policy = np.argmax(self.Q, axis=-1)\n",
    "        \n",
    "        accuracy = np.sum(benchmark_policy == current_policy)\n",
    "        accuracy = accuracy / benchmark_policy.size\n",
    "        \n",
    "        return accuracy\n",
    "    \n",
    "\n",
    "    \n",
    "    def train(self, n_episodes, alpha, epsilon, gamma, i_lim=1000, Q_benchmark=None, show_episodes=True):\n",
    "        \"\"\"\n",
    "        Trains the Q-Learning model.\n",
    "        \"\"\"\n",
    "        top_score = float(\"-inf\")\n",
    "        \n",
    "        for i in range(n_episodes):\n",
    "            \n",
    "            self.train_iteration += 1\n",
    "            \n",
    "            obs = self.env.reset()\n",
    "            x, y = obs[0]\n",
    "            x, y = self._distance_to_state(x, y)\n",
    "            \n",
    "            action = self._epsilon_greedy(epsilon, x, y)\n",
    "            \n",
    "            cumulative_reward = 0\n",
    "            \n",
    "            while True:\n",
    "\n",
    "                # Apply action and return new observation of the environment\n",
    "                obs, reward, done, _, info = self.env.step(action)\n",
    "                x_, y_ = obs\n",
    "                \n",
    "                action_ = self._epsilon_greedy(epsilon, x_, y_)\n",
    "                \n",
    "                \n",
    "                # Treatment relative to the score, reward, terminal conditions\n",
    "                score = info['score']\n",
    "                if score > top_score:\n",
    "                    top_score = score\n",
    "                \n",
    "                # If we die, we set the reward to -100.\n",
    "                if done:\n",
    "                    reward = -100\n",
    "                    if x == 0:\n",
    "                        self.death_causes.append(\"Collision\")\n",
    "                    else:\n",
    "                        self.death_causes.append(\"Floor\")\n",
    "                \n",
    "                # If we reach the Max Score\n",
    "                if score == self.max_score:\n",
    "                    done = True\n",
    "                    self.death_causes.append(\"Max score\")\n",
    "                        \n",
    "                # If we manage to go through a gap, we get a reward of 10\n",
    "                elif x==0 and not done:\n",
    "                    reward = 1\n",
    "                \n",
    "                cumulative_reward += reward\n",
    "                \n",
    "                \n",
    "                # Update the Q according to the Q-learning update equation\n",
    "                step_size = self._step_size(alpha, self.train_iteration, i_lim=i_lim)\n",
    "                \n",
    "                current_q = self.Q[x_, y_, :]\n",
    "                max_q = np.max(current_q)\n",
    "                n_actions_max_q = np.sum(max_q == current_q)\n",
    "                num_actions = 2\n",
    "                \n",
    "                q_update = 0\n",
    "                \n",
    "                for i in range(num_actions): \n",
    "                    if current_q[i] == max_q:\n",
    "                        q_update += current_q[i] * (((1-epsilon) / n_actions_max_q) + (epsilon/num_actions))\n",
    "                    else:\n",
    "                        q_update += current_q[i] * (epsilon / num_actions)\n",
    "\n",
    "                \n",
    "                self.Q[x, y, action] += step_size * (reward + gamma * q_update - self.Q[x, y, action])\n",
    "                \n",
    "                # Update x and y\n",
    "                x, y = x_, y_\n",
    "                action = action_\n",
    "                \n",
    "                # Calculate accuracy with respect to benchmark\n",
    "                if Q_benchmark is not None:\n",
    "                    self.accuracy_history.append(self._evaluate_distance_to_benchmark(Q_benchmark))\n",
    "                \n",
    "                # Render the game\n",
    "                if show_episodes:\n",
    "                    self._render_game(i, top_score, 0)\n",
    "\n",
    "                # If player is dead break\n",
    "                if done:\n",
    "                    self.Q[x, y, action] += step_size * (reward - self.Q[x, y, action])\n",
    "                    break\n",
    "            \n",
    "            self.score_history.append(score)\n",
    "            self.reward_history.append(cumulative_reward)\n",
    "\n",
    "        self.env.close()\n",
    "        \n",
    "        return self\n",
    "    \n",
    "    \n",
    "    def plot_training_rewards(self):\n",
    "        plt.plot(self.reward_history)\n",
    "        plt.xlabel(\"Training episodes\")\n",
    "        plt.ylabel(\"Rewards\")\n",
    "        \n",
    "        plt.show()\n",
    "    \n",
    "    \n",
    "    def play(self, display=True, sleep_time=0.1):\n",
    "        obs = self.env.reset()\n",
    "        x, y = obs[0]\n",
    "        x, y = self._distance_to_state(x, y)\n",
    "        self.reward_play = 0\n",
    "        \n",
    "        top_score = float(\"-inf\")\n",
    "\n",
    "        while True:\n",
    "            # Select next action\n",
    "            action = self._argmax(self.Q[x, y, :])\n",
    "\n",
    "            # Apply action and return new observation of the environment\n",
    "            obs, reward, done, _, info = self.env.step(action)\n",
    "            x, y = obs\n",
    "            \n",
    "            score = info['score']\n",
    "            if score > top_score:\n",
    "                top_score = score\n",
    "\n",
    "            \n",
    "            if not done and x == 0:\n",
    "                reward = 10\n",
    "            elif done:\n",
    "                reward = -100\n",
    "            self.reward_play += reward\n",
    "            \n",
    "            if done and (score != self.max_score):\n",
    "                if x == 0:\n",
    "                    self.death_cause_play = \"Collision\"\n",
    "                else:\n",
    "                    self.death_cause_play = \"Floor\"\n",
    "            \n",
    "            \n",
    "            #print(self.score_play)\n",
    "            # Render the game\n",
    "            if display:\n",
    "                self._render_game(None, top_score, sleep_time)\n",
    "            \n",
    "            # Early breaking if the agent performs well and doesn't stop\n",
    "            if score == self.max_score:\n",
    "                done = True\n",
    "                self.death_cause_play = \"Max Score\"\n",
    "\n",
    "            # If player is dead break\n",
    "            if done:\n",
    "                self.score_play = info['score']\n",
    "                break\n",
    "\n",
    "        self.env.close()\n",
    "        \n",
    "        return self"
   ]
  },
  {
   "cell_type": "markdown",
   "id": "27aff59a",
   "metadata": {},
   "source": [
    "### Do the rewards converge ?"
   ]
  },
  {
   "cell_type": "code",
   "execution_count": null,
   "id": "3da1a582",
   "metadata": {},
   "outputs": [],
   "source": [
    "height = 15\n",
    "width = 20\n",
    "pipe_gap = 4\n",
    "\n",
    "env = gym.make('TextFlappyBird-v0', \n",
    "               height = height, \n",
    "               width = width, \n",
    "               pipe_gap = pipe_gap)"
   ]
  },
  {
   "cell_type": "code",
   "execution_count": null,
   "id": "6d921c73",
   "metadata": {},
   "outputs": [],
   "source": [
    "alpha = 0.1\n",
    "epsilon = .1\n",
    "gamma = .9\n",
    "\n",
    "train_episodes = 5000\n",
    "n_agents = 10\n",
    "\n",
    "rewards_array = []\n",
    "\n",
    "\n",
    "\n",
    "for i in tqdm(range(n_agents)):\n",
    "    sarsa = SARSA_flappy_bird(env=env, \n",
    "                              width = width, \n",
    "                              height = height, \n",
    "                              pipe_gap = pipe_gap)\n",
    "    \n",
    "    sarsa = sarsa.train(n_episodes=train_episodes,\n",
    "                      alpha=alpha,\n",
    "                      epsilon=epsilon,\n",
    "                      gamma=gamma,\n",
    "                      show_episodes=False,\n",
    "                      i_lim = 3000)\n",
    "    \n",
    "    rewards_array.append(sarsa.reward_history)"
   ]
  },
  {
   "cell_type": "code",
   "execution_count": null,
   "id": "25a2ee1c",
   "metadata": {},
   "outputs": [],
   "source": [
    "rewards_array = np.array(rewards_array)\n",
    "mean_rewards_per_step = np.mean(rewards_array, axis=0)\n",
    "\n",
    "window_size = 50\n",
    "moving_average_scores = np.convolve(mean_rewards_per_step, np.ones(window_size), 'valid') / window_size\n",
    "\n",
    "plt.plot(mean_rewards_per_step, label=\"Cumulative rewards\")\n",
    "plt.plot(moving_average_scores, label=\"Moving average\")\n",
    "\n",
    "plt.xlabel(\"Training Episodes\")\n",
    "plt.ylabel(\"Mean rewards across agents\")\n",
    "\n",
    "plt.title(\"Training rewards evolution of the Expected SARSA Agent\")\n",
    "\n",
    "plt.legend()\n",
    "\n",
    "plt.show()"
   ]
  },
  {
   "cell_type": "markdown",
   "id": "def6e002",
   "metadata": {},
   "source": [
    "The training rewards demonstrate a nice and steady convergence as we increase the training episodes. The values of the average rewards stagnates at around $10$."
   ]
  },
  {
   "cell_type": "markdown",
   "id": "b8ff4f18",
   "metadata": {},
   "source": [
    "The training rewards demonstrate a nice and steady convergence as we increase the training episodes."
   ]
  },
  {
   "cell_type": "markdown",
   "id": "db9a1882",
   "metadata": {},
   "source": [
    "### Examining the score with respect to the number of training episodes :"
   ]
  },
  {
   "cell_type": "markdown",
   "id": "8344eddb",
   "metadata": {},
   "source": [
    "In this section, we investigate on the relationship between the number of training episodes and the median/mean score reached by the agent."
   ]
  },
  {
   "cell_type": "markdown",
   "id": "09bc458f",
   "metadata": {},
   "source": [
    "To do this, we first start by selecting certain episodes that we want to perform the check on. We then initialize an agent that we train for the difference between each episode step (eg. if we already trained the agent for 200 episodes and the next episode step is 300, we will train the agent for the remaining 100 episodes). At each step, we make the agent play 100 games, and then take the mean and median score of those 100 plays.\n",
    "\n",
    "This allows us to plot the average and median score of the agent at each training episode step."
   ]
  },
  {
   "cell_type": "code",
   "execution_count": null,
   "id": "81c417fa",
   "metadata": {},
   "outputs": [],
   "source": [
    "height = 15\n",
    "width = 20\n",
    "pipe_gap = 4\n",
    "\n",
    "env = gym.make('TextFlappyBird-v0', \n",
    "               height = height, \n",
    "               width = width, \n",
    "               pipe_gap = pipe_gap)\n",
    "\n",
    "sarsa = SARSA_flappy_bird(env=env, \n",
    "                          width = width, \n",
    "                          height = height, \n",
    "                          pipe_gap = pipe_gap)"
   ]
  },
  {
   "cell_type": "markdown",
   "id": "e830540e",
   "metadata": {},
   "source": [
    "To do this, we first start by selecting certain episodes that we want to perform the check on. We then initialize an agent that we train for the difference between each episode step (eg. if we already trained the agent for 200 episodes and the next episode step is 300, we will train the agent for the remaining 100 episodes). At each step, we make the agent play 100 games, and then take the mean and median score of those 100 plays.\n",
    "\n",
    "This allows us to plot the average and median score of the agent at each training episode step."
   ]
  },
  {
   "cell_type": "code",
   "execution_count": null,
   "id": "2ab9d0d8",
   "metadata": {},
   "outputs": [],
   "source": [
    "alpha = 0.1\n",
    "epsilon = 0.1\n",
    "gamma = .9\n",
    "\n",
    "start_n_episodes = 10\n",
    "end_n_episodes = 3000\n",
    "n_steps = 40\n",
    "\n",
    "episodes_array = np.linspace(start_n_episodes, end_n_episodes, n_steps).astype(int)\n",
    "episodes_array = [10, 30, 50, 75, 100, 250, 400, 700, 1000, 1250, 1500, 1750, 2000, 2500, 3000]\n",
    "episodes_increments = [start_n_episodes] + list(np.diff(episodes_array))\n",
    "\n",
    "raw_results = []\n",
    "median_scores = []\n",
    "mean_scores = []\n",
    "dict_scores = {}\n",
    "\n",
    "for i, n_episodes in enumerate(episodes_increments):\n",
    "    train_model = sarsa.train(n_episodes=n_episodes,\n",
    "                                  alpha=alpha,\n",
    "                                  epsilon=epsilon,\n",
    "                                  gamma=gamma,\n",
    "                                  i_lim=1500,\n",
    "                                  show_episodes=False)\n",
    "\n",
    "    n_plays = 100\n",
    "    print(f\"Training with {episodes_array[i]} episodes :\")\n",
    "    scores = []\n",
    "    for _ in tqdm(range(n_plays)):\n",
    "        model = train_model.play(False, sleep_time=0)\n",
    "        scores.append(model.score_play)\n",
    "        raw_results.append(model.score_play)\n",
    "    \n",
    "    dict_scores[episodes_array[i]] = scores\n",
    "        \n",
    "    median_scores.append(np.median(scores))\n",
    "    mean_scores.append(np.mean(scores))"
   ]
  },
  {
   "cell_type": "code",
   "execution_count": null,
   "id": "6d3e080f",
   "metadata": {},
   "outputs": [],
   "source": [
    "plt.plot(episodes_array, mean_scores, label=\"Mean scores\")\n",
    "plt.plot(episodes_array, median_scores, label=\"Median scores\")\n",
    "\n",
    "plt.title(\"Evolution of the scores of agents\")\n",
    "\n",
    "plt.xlabel(\"Number of training episodes\")\n",
    "plt.ylabel(\"Score\")\n",
    "\n",
    "plt.yscale('log')\n",
    "\n",
    "plt.legend()\n",
    "\n",
    "plt.show()"
   ]
  },
  {
   "cell_type": "markdown",
   "id": "aeaf78a6",
   "metadata": {},
   "source": [
    "We get convergence towards the optimal policy after 2000 episodes."
   ]
  },
  {
   "cell_type": "markdown",
   "id": "fe031b37",
   "metadata": {},
   "source": [
    "### Hyperparameter sweep"
   ]
  },
  {
   "cell_type": "markdown",
   "id": "27fe82b7",
   "metadata": {},
   "source": [
    "### Impact of $\\alpha$"
   ]
  },
  {
   "cell_type": "code",
   "execution_count": null,
   "id": "28dbdf65",
   "metadata": {},
   "outputs": [],
   "source": [
    "alpha_range = [0.01, 0.05, 0.1, 0.2, 0.5]\n",
    "epsilon = 0.1\n",
    "gamma = 0.9\n",
    "i_lim = 3000\n",
    "\n",
    "n_episodes = 3000\n",
    "\n",
    "n_plays = 20\n",
    "\n",
    "scores_list = []\n",
    "\n",
    "for alpha in tqdm(alpha_range):\n",
    "    average_score = 0\n",
    "    \n",
    "    for _ in range(n_plays):\n",
    "        sarsa = SARSA_flappy_bird(env=env, \n",
    "                              width = width, \n",
    "                              height = height, \n",
    "                              pipe_gap = pipe_gap)\n",
    "        \n",
    "        sarsa = sarsa.train(n_episodes=n_episodes,\n",
    "                            alpha=alpha,\n",
    "                            epsilon=epsilon,\n",
    "                            gamma=gamma,\n",
    "                            show_episodes=False,\n",
    "                            i_lim=i_lim\n",
    "                           )\n",
    "        \n",
    "\n",
    "        sarsa = sarsa.play(False)\n",
    "        average_score += sarsa.score_play / n_plays\n",
    "        \n",
    "    scores_list.append(average_score)\n",
    "        "
   ]
  },
  {
   "cell_type": "code",
   "execution_count": null,
   "id": "b93f7744",
   "metadata": {},
   "outputs": [],
   "source": [
    "plt.plot(alpha_range, scores_list)\n",
    "plt.axhline(y = 2000, color = 'r', linestyle = '--')\n",
    "\n",
    "plt.xlabel(r\"$\\alpha$\")\n",
    "plt.ylabel(\"Average score\")\n",
    "\n",
    "plt.title(fr\"Average scores wrt $\\alpha$ with $\\epsilon$ = {epsilon}, $\\gamma$ = {gamma}.\")\n",
    "\n",
    "plt.show()"
   ]
  },
  {
   "cell_type": "markdown",
   "id": "03dc17c4",
   "metadata": {},
   "source": [
    "We notice that for very low values of $\\alpha$, we get a very poor performance, and that for very high values of $\\alpha$, the score decreases. \n",
    "\n",
    "$\\alpha$ represents the step size or learning rate of the agent. Therefore, when the $\\alpha$ is very low, the agent learns slowly and doesn't have time to reach the optimal policy. Whereas when $\\alpha$ is very large, the agent has trouble to converge when it gets closer to the optimal policy. Therefore, the optimal $\\alpha$ sits in between."
   ]
  },
  {
   "cell_type": "markdown",
   "id": "0d52e0dd",
   "metadata": {},
   "source": [
    "### Impact of $\\epsilon$"
   ]
  },
  {
   "cell_type": "code",
   "execution_count": null,
   "id": "cea55a33",
   "metadata": {},
   "outputs": [],
   "source": [
    "alpha = 0.1\n",
    "epsilon_range = [0.01, 0.05, 0.1, 0.2, 0.5]\n",
    "gamma = 0.9\n",
    "i_lim = 2000\n",
    "\n",
    "n_episodes = 3000\n",
    "\n",
    "n_plays = 10\n",
    "\n",
    "scores_list = []\n",
    "\n",
    "for epsilon in tqdm(epsilon_range):\n",
    "    average_score = 0\n",
    "    \n",
    "    for _ in range(n_plays):\n",
    "        sarsa = SARSA_flappy_bird(env=env, \n",
    "                              width = width, \n",
    "                              height = height, \n",
    "                              pipe_gap = pipe_gap)\n",
    "        \n",
    "        sarsa = sarsa.train(n_episodes=n_episodes,\n",
    "                            alpha=alpha,\n",
    "                            epsilon=epsilon,\n",
    "                            gamma=gamma,\n",
    "                            show_episodes=False,\n",
    "                            i_lim=i_lim\n",
    "                           )\n",
    "        \n",
    "\n",
    "        sarsa = sarsa.play(False)\n",
    "        average_score += sarsa.score_play / n_plays\n",
    "        \n",
    "    scores_list.append(average_score)"
   ]
  },
  {
   "cell_type": "code",
   "execution_count": null,
   "id": "88c885f3",
   "metadata": {},
   "outputs": [],
   "source": [
    "plt.plot(epsilon_range, scores_list)\n",
    "plt.axhline(y = 2000, color = 'r', linestyle = '--')\n",
    "\n",
    "plt.xlabel(r\"$\\epsilon$\")\n",
    "plt.ylabel(\"Average score\")\n",
    "\n",
    "plt.title(fr\"Average scores wrt $\\epsilon$ with $\\alpha$ = {alpha}, $\\gamma$ = {gamma}.\")\n",
    "\n",
    "plt.show()"
   ]
  },
  {
   "cell_type": "markdown",
   "id": "22317106",
   "metadata": {},
   "source": [
    "We notice that for very low values of $\\epsilon$, the performance is optimal as it constantly reaches 2000. However, as we increase $\\epsilon$, the agent does too much exploration and very little exploitation, therfore it doesn't converge in due time. We also note that Q-Learning is an algorithm that notoriously doesn't do much exploration (cf. the Cliff Walking problem we saw in the Lab Session), therefore it isn't really impacted by how low the $\\epsilon$ is."
   ]
  },
  {
   "cell_type": "markdown",
   "id": "42c72faa",
   "metadata": {},
   "source": [
    "### Impact of i_lim"
   ]
  },
  {
   "cell_type": "code",
   "execution_count": null,
   "id": "591ad5fa",
   "metadata": {},
   "outputs": [],
   "source": [
    "alpha = 0.1\n",
    "epsilon = 0.1\n",
    "gamma = 0.9\n",
    "i_lim_range = [1000, 1500, 2000, 2500, 3000]\n",
    "\n",
    "n_episodes = 3000\n",
    "\n",
    "n_plays = 20\n",
    "\n",
    "scores_list = []\n",
    "\n",
    "for i_lim in tqdm(i_lim_range):\n",
    "    average_score = 0\n",
    "    \n",
    "    for _ in range(n_plays):\n",
    "        sarsa = SARSA_flappy_bird(env=env, \n",
    "                              width = width, \n",
    "                              height = height, \n",
    "                              pipe_gap = pipe_gap)\n",
    "        \n",
    "        sarsa = sarsa.train(n_episodes=n_episodes,\n",
    "                            alpha=alpha,\n",
    "                            epsilon=epsilon,\n",
    "                            gamma=gamma,\n",
    "                            show_episodes=False,\n",
    "                            i_lim=i_lim\n",
    "                           )\n",
    "        \n",
    "\n",
    "        sarsa = sarsa.play(False)\n",
    "        average_score += sarsa.score_play / n_plays\n",
    "        \n",
    "    scores_list.append(average_score)"
   ]
  },
  {
   "cell_type": "code",
   "execution_count": null,
   "id": "19d7f055",
   "metadata": {},
   "outputs": [],
   "source": [
    "plt.plot(i_lim_range, scores_list)\n",
    "plt.axhline(y = 2000, color = 'r', linestyle = '--')\n",
    "\n",
    "plt.xlabel(\"i_lim\")\n",
    "plt.ylabel(\"Average score\")\n",
    "\n",
    "plt.title(fr\"Average scores wrt i_lim with $\\alpha$ = {alpha}, $\\gamma$ = {gamma}, $\\epsilon = {epsilon}.\")\n",
    "\n",
    "plt.show()"
   ]
  },
  {
   "cell_type": "markdown",
   "id": "045464b8",
   "metadata": {},
   "source": [
    "### Hyperparameter grid search"
   ]
  },
  {
   "cell_type": "markdown",
   "id": "a171e52d",
   "metadata": {},
   "source": [
    "We will now sweep across the whole space of hyperparameters, ie. we will move all the hyperparameters at once to find the best combination. We do this using a \"grid search\" paradigm."
   ]
  },
  {
   "cell_type": "code",
   "execution_count": null,
   "id": "eb8023c4",
   "metadata": {},
   "outputs": [],
   "source": [
    "def examine_parameter_combination_SARSA(alpha, epsilon, gamma, i_lim, n_plays=20):\n",
    "    height = 15\n",
    "    width = 20\n",
    "    pipe_gap = 4\n",
    "\n",
    "    env = gym.make('TextFlappyBird-v0', \n",
    "                   height = height, \n",
    "                   width = width, \n",
    "                   pipe_gap = pipe_gap)\n",
    "\n",
    "    sarsa = SARSA_flappy_bird(env=env, \n",
    "                              width = width, \n",
    "                              height = height, \n",
    "                              pipe_gap = pipe_gap)\n",
    "\n",
    "    start_n_episodes = 10\n",
    "    end_n_episodes = 3000\n",
    "    n_steps = 40\n",
    "\n",
    "    #episodes_array = np.linspace(start_n_episodes, end_n_episodes, n_steps).astype(int)\n",
    "    episodes_array = [10, 30, 50, 75, 100, 250, 400, 700, 1000, 1250, 1500, 1750, 2000, 2500, 3000]\n",
    "    episodes_increments = [episodes_array[0]] + list(np.diff(episodes_array))\n",
    "\n",
    "\n",
    "    median_scores = []\n",
    "    mean_scores = []\n",
    "\n",
    "    for i, n_episodes in tqdm(enumerate(episodes_increments), disable=True):\n",
    "        train_model = sarsa.train(n_episodes=n_episodes,\n",
    "                                  alpha=alpha,\n",
    "                                  epsilon=epsilon,\n",
    "                                  gamma=gamma,\n",
    "                                  i_lim=i_lim,\n",
    "                                  show_episodes=False)\n",
    "        \n",
    "        scores = []\n",
    "        for _ in range(n_plays):\n",
    "            model = train_model.play(False)\n",
    "            scores.append(model.score_play)\n",
    "\n",
    "\n",
    "        median_scores.append(np.median(scores))\n",
    "        mean_scores.append(np.mean(scores))\n",
    "    \n",
    "    return median_scores, mean_scores"
   ]
  },
  {
   "cell_type": "code",
   "execution_count": null,
   "id": "69f934ad",
   "metadata": {},
   "outputs": [],
   "source": [
    "def hyperparameter_tuning_SARSA(alpha_range, epsilon_range, gamma_range, i_max_range, n_trains=10, n_plays=20):\n",
    "    if type(alpha_range) == int or type(alpha_range) == float:\n",
    "        alpha_range = [alpha_range]\n",
    "    if type(epsilon_range) == int or type(epsilon_range) == float:\n",
    "        epsilon_range = [epsilon_range]\n",
    "    if type(gamma_range) == int or type(gamma_range) == float:\n",
    "        gamma_range = [gamma_range]\n",
    "    if type(i_max_range) == int or type(i_max_range) == float:\n",
    "        i_max_range = [i_max_range]\n",
    "    \n",
    "    \n",
    "    param_combinations = list(product(alpha_range, epsilon_range, gamma_range, i_max_range))\n",
    "    \n",
    "    result_dict = {'combinations' : [],\n",
    "                   'alpha' : [],\n",
    "                   'epsilon' : [],\n",
    "                   'gamma' : [],\n",
    "                   'i_max' : [],\n",
    "                   'mean_score' : [],\n",
    "                   'median_score' : [],\n",
    "                   }\n",
    "    \n",
    "    for alpha, epsilon, gamma, i_max in tqdm(param_combinations, disable=False):\n",
    "        \n",
    "        #print(alpha, epsilon, gamma, i_max)\n",
    "        \n",
    "        mean_score_array_comb = []\n",
    "        median_score_array_comb = []\n",
    "        \n",
    "        for _ in range(n_trains):\n",
    "            median_scores_comb, mean_scores_comb = examine_parameter_combination_SARSA(alpha, \n",
    "                                                                                        epsilon, \n",
    "                                                                                        gamma, \n",
    "                                                                                        i_max,\n",
    "                                                                                        n_plays=n_plays,\n",
    "                                                                                        )\n",
    "            mean_score_array_comb.append(mean_scores_comb)\n",
    "            median_score_array_comb.append(median_scores_comb)\n",
    "        \n",
    "        mean_score_array_comb = np.mean(np.array(mean_score_array_comb), axis=0)\n",
    "        median_score_array_comb = np.mean(np.array(median_score_array_comb), axis=0)\n",
    "        \n",
    "        result_dict['combinations'].append((alpha, epsilon, gamma, i_max))\n",
    "        result_dict['alpha'].append(alpha)\n",
    "        result_dict['epsilon'].append(epsilon)\n",
    "        result_dict['gamma'].append(gamma)\n",
    "        result_dict['i_max'].append(i_max)\n",
    "        result_dict['mean_score'].append(mean_score_array_comb)\n",
    "        result_dict['median_score'].append(median_score_array_comb)\n",
    "    \n",
    "    return result_dict\n",
    "    "
   ]
  },
  {
   "cell_type": "markdown",
   "id": "65377ce4",
   "metadata": {},
   "source": [
    "We perform the gird search on the following parameters :\n",
    "- $\\alpha \\in [0.05, 0.1, 0.2]$\n",
    "- $\\epsilon \\in [0.05, 0.1]$\n",
    "- $\\gamma \\in [0.9, 1]$\n",
    "- $i_{lim} \\in [1500, 2000, 2500]$"
   ]
  },
  {
   "cell_type": "code",
   "execution_count": null,
   "id": "317fe277",
   "metadata": {},
   "outputs": [],
   "source": [
    "alpha_range = [0.05, 0.1, 0.2]\n",
    "epsilon_range = [0.05, 0.1]\n",
    "gamma_range = [0.9, 1]\n",
    "i_max_range = [1500, 2000, 2500]\n",
    "\n",
    "n_trains = 10\n",
    "n_plays = 20\n",
    "\n",
    "result_dict = hyperparameter_tuning_SARSA(alpha_range, \n",
    "                                        epsilon_range, \n",
    "                                        gamma_range, \n",
    "                                        i_max_range, \n",
    "                                        n_trains = n_trains, \n",
    "                                        n_plays = n_plays)\n"
   ]
  },
  {
   "cell_type": "code",
   "execution_count": null,
   "id": "950ab7ca",
   "metadata": {},
   "outputs": [],
   "source": [
    "SARSA_result_df = pd.DataFrame(result_dict)\n",
    "\n",
    "SARSA_result_df.to_csv(\"Hyperparameter results Expected SARSA\")\n",
    "\n",
    "SARSA_result_df.head()"
   ]
  },
  {
   "cell_type": "code",
   "execution_count": null,
   "id": "80aa3746",
   "metadata": {},
   "outputs": [],
   "source": [
    "episodes_array = [10, 30, 50, 75, 100, 250, 400, 700, 1000, 1250, 1500, 1750, 2000, 2500, 3000]\n",
    "\n",
    "for index, row in SARSA_result_df.iterrows():\n",
    "    alpha = row['alpha']\n",
    "    epsilon = row['epsilon']\n",
    "    gamma = row['gamma']\n",
    "    i_max = row['i_max']\n",
    "    \n",
    "    median_score = row['median_score']\n",
    "    mean_score = row['mean_score']\n",
    "    \n",
    "    instances_max = np.sum(np.array(mean_score) > 1800)\n",
    "    \n",
    "    # We only select the curves that reach 1850 at least 4 times\n",
    "    \n",
    "    if instances_max > 1 :\n",
    "    \n",
    "        label = fr\"$\\alpha$={alpha}, $\\epsilon$={epsilon}, $\\gamma$={gamma}, i_max={i_max}\"\n",
    "\n",
    "        plt.plot(episodes_array, mean_score, label=label)\n",
    "\n",
    "plt.xlabel(\"Training episodes\")\n",
    "plt.ylabel(\"Score\")\n",
    "\n",
    "plt.title(\"Score convergence of Expected SARSA wrt. the number of training episodes for different hyperparameter combinations\")\n",
    "\n",
    "plt.legend()\n",
    "\n",
    "plt.show()"
   ]
  },
  {
   "cell_type": "markdown",
   "id": "142bbf1e",
   "metadata": {},
   "source": [
    "### State-value"
   ]
  },
  {
   "cell_type": "markdown",
   "id": "bcf37f0c",
   "metadata": {},
   "source": [
    "First, we need to train a benchmark agent. As said before, we will train it on 5000 episodes.\n",
    "\n",
    "To compare the different models, we will calculate the distance between the Q-values of the models and the Q-values of the benchmark."
   ]
  },
  {
   "cell_type": "code",
   "execution_count": null,
   "id": "35a8ac2f",
   "metadata": {},
   "outputs": [],
   "source": [
    "height = 15\n",
    "width = 20\n",
    "pipe_gap = 4\n",
    "\n",
    "env = gym.make('TextFlappyBird-v0', \n",
    "               height = height, \n",
    "               width = width, \n",
    "               pipe_gap = pipe_gap)"
   ]
  },
  {
   "cell_type": "code",
   "execution_count": null,
   "id": "85b85d2c",
   "metadata": {},
   "outputs": [],
   "source": [
    "alpha = 0.2\n",
    "epsilon = 0.05\n",
    "gamma = 1.\n",
    "\n",
    "benchmark_episodes = 10000\n",
    "\n",
    "benchmark_agent = SARSA_flappy_bird(env=env, \n",
    "                                    width = width, \n",
    "                                    height = height, \n",
    "                                    pipe_gap = pipe_gap)\n",
    "    \n",
    "benchmark_agent = benchmark_agent.train(n_episodes=benchmark_episodes,\n",
    "                                        alpha=alpha,\n",
    "                                        epsilon=epsilon,\n",
    "                                        gamma=gamma,\n",
    "                                        show_episodes=False)"
   ]
  },
  {
   "cell_type": "code",
   "execution_count": null,
   "id": "e5d66070",
   "metadata": {},
   "outputs": [],
   "source": [
    "benchmark_policy = np.argmax(benchmark_agent.Q, axis=-1)\n",
    "benchmark_policy = benchmark_policy[::-1, ::-1]"
   ]
  },
  {
   "cell_type": "code",
   "execution_count": null,
   "id": "25fbe049",
   "metadata": {},
   "outputs": [],
   "source": [
    "window = np.ones((4, 4))\n",
    "window = window / window.size\n",
    "benchmark_policy_average = convolve2d(benchmark_policy, window, mode='valid')"
   ]
  },
  {
   "cell_type": "code",
   "execution_count": null,
   "id": "481f30dd",
   "metadata": {},
   "outputs": [],
   "source": [
    "extent = [20 , 0, 15 , -15]\n",
    "\n",
    "plt.imshow(benchmark_policy_average.T, cmap='hot', extent=extent)\n",
    "\n",
    "\n",
    "\n",
    "plt.colorbar()\n",
    "\n",
    "plt.xlabel(\"Horizontal distance to center of gap\")\n",
    "plt.ylabel(\"Vertical distance to center of gap\")\n",
    "\n",
    "plt.title(\"State-value heat map for Expected SARSA\")\n",
    "\n",
    "plt.show()"
   ]
  },
  {
   "cell_type": "markdown",
   "id": "03b8706f",
   "metadata": {},
   "source": [
    "# Using the original Flappy Bird environment"
   ]
  },
  {
   "cell_type": "code",
   "execution_count": null,
   "id": "4b16ada1",
   "metadata": {},
   "outputs": [],
   "source": [
    "import flappy_bird_gym"
   ]
  },
  {
   "cell_type": "code",
   "execution_count": null,
   "id": "ba53c985",
   "metadata": {},
   "outputs": [],
   "source": [
    "env = flappy_bird_gym.make(\"FlappyBird-v0\")\n",
    "obs = env.reset()\n",
    "\n",
    "while True:\n",
    "    # Select next action\n",
    "    action = env.action_space.sample()  # for an agent, action = agent.policy(observation)\n",
    "\n",
    "    # Appy action and return new observation of the environment\n",
    "    #if np.random.random() < .05:\n",
    "    #    action = 1\n",
    "    #else:\n",
    "    #    action = 0\n",
    "    obs, reward, done, info = env.step(action)\n",
    "\n",
    "    # Render the game\n",
    "    os.system(\"clear\")\n",
    "    env.render()\n",
    "    time.sleep(1/30) # FPS\n",
    "    \n",
    "    clear_output(wait=True)\n",
    "    \n",
    "    # If player is dead break\n",
    "    if done:\n",
    "        break\n",
    "\n",
    "env.close()"
   ]
  },
  {
   "cell_type": "code",
   "execution_count": null,
   "id": "967127b4",
   "metadata": {},
   "outputs": [],
   "source": [
    "print(\"Observation returned by the environment :\", obs)"
   ]
  }
 ],
 "metadata": {
  "kernelspec": {
   "display_name": "Flappy bird M1",
   "language": "python",
   "name": "flappy-bird"
  },
  "language_info": {
   "codemirror_mode": {
    "name": "ipython",
    "version": 3
   },
   "file_extension": ".py",
   "mimetype": "text/x-python",
   "name": "python",
   "nbconvert_exporter": "python",
   "pygments_lexer": "ipython3",
   "version": "3.9.16"
  }
 },
 "nbformat": 4,
 "nbformat_minor": 5
}
